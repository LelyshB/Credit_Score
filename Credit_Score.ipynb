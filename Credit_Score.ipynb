{
  "cells": [
    {
      "cell_type": "markdown",
      "metadata": {
        "id": "view-in-github",
        "colab_type": "text"
      },
      "source": [
        "<a href=\"https://colab.research.google.com/github/LelyshB/Credit_Score/blob/main/Credit_Score.ipynb\" target=\"_parent\"><img src=\"https://colab.research.google.com/assets/colab-badge.svg\" alt=\"Open In Colab\"/></a>"
      ]
    },
    {
      "cell_type": "markdown",
      "metadata": {
        "id": "3CetymQsrIta"
      },
      "source": [
        "# **Подготовка среды**"
      ]
    },
    {
      "cell_type": "markdown",
      "metadata": {
        "id": "aqKpS4KmEuut"
      },
      "source": [
        "https://drive.google.com/file/d/1FQ4TmNabnfu_o6smvHjyAkoZ1o2qOrUO/view?usp=sharing"
      ]
    },
    {
      "cell_type": "code",
      "execution_count": null,
      "metadata": {
        "colab": {
          "base_uri": "https://localhost:8080/"
        },
        "id": "k5L_RbUOFLYW",
        "outputId": "a0770eb6-93c1-4498-befd-1006d17dada2"
      },
      "outputs": [
        {
          "name": "stdout",
          "output_type": "stream",
          "text": [
            "Downloading...\n",
            "From: https://drive.google.com/uc?id=1FQ4TmNabnfu_o6smvHjyAkoZ1o2qOrUO\n",
            "To: /content/credit_score.zip\n",
            "\r  0% 0.00/9.97M [00:00<?, ?B/s]\r100% 9.97M/9.97M [00:00<00:00, 134MB/s]\n"
          ]
        }
      ],
      "source": [
        "! gdown 1FQ4TmNabnfu_o6smvHjyAkoZ1o2qOrUO"
      ]
    },
    {
      "cell_type": "code",
      "execution_count": null,
      "metadata": {
        "colab": {
          "base_uri": "https://localhost:8080/"
        },
        "id": "H3zOMKBsFLib",
        "outputId": "b139514f-08bb-4b28-a2f5-37fb04d2a722"
      },
      "outputs": [
        {
          "name": "stdout",
          "output_type": "stream",
          "text": [
            "Archive:  /content/credit_score.zip\n",
            "replace test.csv? [y]es, [n]o, [A]ll, [N]one, [r]ename: A\n",
            "  inflating: test.csv                \n",
            "  inflating: train.csv               \n"
          ]
        }
      ],
      "source": [
        "! unzip /content/credit_score.zip"
      ]
    },
    {
      "cell_type": "code",
      "execution_count": null,
      "metadata": {
        "colab": {
          "base_uri": "https://localhost:8080/"
        },
        "id": "27FYZ_I7OT2C",
        "outputId": "32ba91c6-894d-422b-cf76-b744f5c5f65e"
      },
      "outputs": [
        {
          "name": "stdout",
          "output_type": "stream",
          "text": [
            "Requirement already satisfied: Catboost in /usr/local/lib/python3.10/dist-packages (1.2.3)\n",
            "Requirement already satisfied: graphviz in /usr/local/lib/python3.10/dist-packages (from Catboost) (0.20.3)\n",
            "Requirement already satisfied: matplotlib in /usr/local/lib/python3.10/dist-packages (from Catboost) (3.7.1)\n",
            "Requirement already satisfied: numpy>=1.16.0 in /usr/local/lib/python3.10/dist-packages (from Catboost) (1.25.2)\n",
            "Requirement already satisfied: pandas>=0.24 in /usr/local/lib/python3.10/dist-packages (from Catboost) (2.0.3)\n",
            "Requirement already satisfied: scipy in /usr/local/lib/python3.10/dist-packages (from Catboost) (1.11.4)\n",
            "Requirement already satisfied: plotly in /usr/local/lib/python3.10/dist-packages (from Catboost) (5.15.0)\n",
            "Requirement already satisfied: six in /usr/local/lib/python3.10/dist-packages (from Catboost) (1.16.0)\n",
            "Requirement already satisfied: python-dateutil>=2.8.2 in /usr/local/lib/python3.10/dist-packages (from pandas>=0.24->Catboost) (2.8.2)\n",
            "Requirement already satisfied: pytz>=2020.1 in /usr/local/lib/python3.10/dist-packages (from pandas>=0.24->Catboost) (2023.4)\n",
            "Requirement already satisfied: tzdata>=2022.1 in /usr/local/lib/python3.10/dist-packages (from pandas>=0.24->Catboost) (2024.1)\n",
            "Requirement already satisfied: contourpy>=1.0.1 in /usr/local/lib/python3.10/dist-packages (from matplotlib->Catboost) (1.2.1)\n",
            "Requirement already satisfied: cycler>=0.10 in /usr/local/lib/python3.10/dist-packages (from matplotlib->Catboost) (0.12.1)\n",
            "Requirement already satisfied: fonttools>=4.22.0 in /usr/local/lib/python3.10/dist-packages (from matplotlib->Catboost) (4.50.0)\n",
            "Requirement already satisfied: kiwisolver>=1.0.1 in /usr/local/lib/python3.10/dist-packages (from matplotlib->Catboost) (1.4.5)\n",
            "Requirement already satisfied: packaging>=20.0 in /usr/local/lib/python3.10/dist-packages (from matplotlib->Catboost) (24.0)\n",
            "Requirement already satisfied: pillow>=6.2.0 in /usr/local/lib/python3.10/dist-packages (from matplotlib->Catboost) (9.4.0)\n",
            "Requirement already satisfied: pyparsing>=2.3.1 in /usr/local/lib/python3.10/dist-packages (from matplotlib->Catboost) (3.1.2)\n",
            "Requirement already satisfied: tenacity>=6.2.0 in /usr/local/lib/python3.10/dist-packages (from plotly->Catboost) (8.2.3)\n"
          ]
        }
      ],
      "source": [
        "!pip install Catboost"
      ]
    },
    {
      "cell_type": "code",
      "execution_count": null,
      "metadata": {
        "colab": {
          "base_uri": "https://localhost:8080/"
        },
        "id": "gy6Cfpatle1z",
        "outputId": "7d300785-3ab9-4835-cf0d-8282bfbc1d12"
      },
      "outputs": [
        {
          "name": "stdout",
          "output_type": "stream",
          "text": [
            "Collecting shap\n",
            "  Downloading shap-0.45.0-cp310-cp310-manylinux_2_12_x86_64.manylinux2010_x86_64.manylinux_2_17_x86_64.manylinux2014_x86_64.whl (538 kB)\n",
            "\u001b[2K     \u001b[90m━━━━━━━━━━━━━━━━━━━━━━━━━━━━━━━━━━━━━━━━\u001b[0m \u001b[32m538.2/538.2 kB\u001b[0m \u001b[31m4.7 MB/s\u001b[0m eta \u001b[36m0:00:00\u001b[0m\n",
            "\u001b[?25hRequirement already satisfied: numpy in /usr/local/lib/python3.10/dist-packages (from shap) (1.25.2)\n",
            "Requirement already satisfied: scipy in /usr/local/lib/python3.10/dist-packages (from shap) (1.11.4)\n",
            "Requirement already satisfied: scikit-learn in /usr/local/lib/python3.10/dist-packages (from shap) (1.2.2)\n",
            "Requirement already satisfied: pandas in /usr/local/lib/python3.10/dist-packages (from shap) (2.0.3)\n",
            "Requirement already satisfied: tqdm>=4.27.0 in /usr/local/lib/python3.10/dist-packages (from shap) (4.66.2)\n",
            "Requirement already satisfied: packaging>20.9 in /usr/local/lib/python3.10/dist-packages (from shap) (24.0)\n",
            "Collecting slicer==0.0.7 (from shap)\n",
            "  Downloading slicer-0.0.7-py3-none-any.whl (14 kB)\n",
            "Requirement already satisfied: numba in /usr/local/lib/python3.10/dist-packages (from shap) (0.58.1)\n",
            "Requirement already satisfied: cloudpickle in /usr/local/lib/python3.10/dist-packages (from shap) (2.2.1)\n",
            "Requirement already satisfied: llvmlite<0.42,>=0.41.0dev0 in /usr/local/lib/python3.10/dist-packages (from numba->shap) (0.41.1)\n",
            "Requirement already satisfied: python-dateutil>=2.8.2 in /usr/local/lib/python3.10/dist-packages (from pandas->shap) (2.8.2)\n",
            "Requirement already satisfied: pytz>=2020.1 in /usr/local/lib/python3.10/dist-packages (from pandas->shap) (2023.4)\n",
            "Requirement already satisfied: tzdata>=2022.1 in /usr/local/lib/python3.10/dist-packages (from pandas->shap) (2024.1)\n",
            "Requirement already satisfied: joblib>=1.1.1 in /usr/local/lib/python3.10/dist-packages (from scikit-learn->shap) (1.3.2)\n",
            "Requirement already satisfied: threadpoolctl>=2.0.0 in /usr/local/lib/python3.10/dist-packages (from scikit-learn->shap) (3.4.0)\n",
            "Requirement already satisfied: six>=1.5 in /usr/local/lib/python3.10/dist-packages (from python-dateutil>=2.8.2->pandas->shap) (1.16.0)\n",
            "Installing collected packages: slicer, shap\n",
            "Successfully installed shap-0.45.0 slicer-0.0.7\n"
          ]
        }
      ],
      "source": [
        "!pip install shap"
      ]
    },
    {
      "cell_type": "markdown",
      "metadata": {
        "id": "w3IlLui7rBAu"
      },
      "source": [
        "# **Импорты**"
      ]
    },
    {
      "cell_type": "code",
      "execution_count": null,
      "metadata": {
        "id": "snJhUytKF220"
      },
      "outputs": [],
      "source": [
        "import pandas as pd\n",
        "import numpy as np\n",
        "import shap\n",
        "import matplotlib.pyplot as plt\n",
        "\n",
        "from catboost import Pool,CatBoostClassifier\n",
        "from boruta import BorutaPy\n",
        "\n",
        "from sklearn.preprocessing import StandardScaler,label_binarize,LabelEncoder\n",
        "from sklearn.impute import KNNImputer\n",
        "\n",
        "from sklearn.metrics import classification_report,roc_curve, auc, roc_auc_score\n",
        "from sklearn.model_selection import cross_val_score, train_test_split\n",
        "\n",
        "\n",
        "from sklearn.ensemble import RandomForestClassifier\n",
        "from sklearn.decomposition import PCA\n",
        "\n",
        "import seaborn as sns\n",
        "\n",
        "\n",
        "from tqdm.notebook import tqdm\n",
        "import scipy as sp\n",
        "from sklearn.ensemble import RandomForestClassifier\n",
        "from sklearn.utils import shuffle\n",
        "\n",
        "plt.style.use('dark_background')"
      ]
    },
    {
      "cell_type": "markdown",
      "metadata": {
        "id": "8SJ70M3crVAo"
      },
      "source": [
        "# **EDA**"
      ]
    },
    {
      "cell_type": "code",
      "execution_count": null,
      "metadata": {
        "colab": {
          "base_uri": "https://localhost:8080/"
        },
        "id": "-ae6LeVYFnc7",
        "outputId": "61761688-0da6-4394-beaf-e20dca90184f"
      },
      "outputs": [
        {
          "name": "stderr",
          "output_type": "stream",
          "text": [
            "<ipython-input-54-337b670ff17c>:1: DtypeWarning: Columns (26) have mixed types. Specify dtype option on import or set low_memory=False.\n",
            "  df = pd.read_csv('/content/train.csv')\n"
          ]
        }
      ],
      "source": [
        "df = pd.read_csv('/content/train.csv')"
      ]
    },
    {
      "cell_type": "code",
      "execution_count": null,
      "metadata": {
        "id": "DfPfI8pB233A"
      },
      "outputs": [],
      "source": [
        "pd.set_option('display.max_columns', None)\n",
        "pd.set_option('display.expand_frame_repr', False)"
      ]
    },
    {
      "cell_type": "code",
      "execution_count": null,
      "metadata": {
        "colab": {
          "base_uri": "https://localhost:8080/",
          "height": 368
        },
        "id": "Lqr3ZnqAF5Bo",
        "outputId": "f083f5fe-5c3b-47df-b391-7a586a7293a1"
      },
      "outputs": [
        {
          "data": {
            "application/vnd.google.colaboratory.intrinsic+json": {
              "type": "dataframe"
            },
            "text/html": [
              "\n",
              "  <div id=\"df-282e067d-53b2-4c03-8adf-438843aea1a5\" class=\"colab-df-container\">\n",
              "    <div>\n",
              "<style scoped>\n",
              "    .dataframe tbody tr th:only-of-type {\n",
              "        vertical-align: middle;\n",
              "    }\n",
              "\n",
              "    .dataframe tbody tr th {\n",
              "        vertical-align: top;\n",
              "    }\n",
              "\n",
              "    .dataframe thead th {\n",
              "        text-align: right;\n",
              "    }\n",
              "</style>\n",
              "<table border=\"1\" class=\"dataframe\">\n",
              "  <thead>\n",
              "    <tr style=\"text-align: right;\">\n",
              "      <th></th>\n",
              "      <th>ID</th>\n",
              "      <th>Customer_ID</th>\n",
              "      <th>Month</th>\n",
              "      <th>Name</th>\n",
              "      <th>Age</th>\n",
              "      <th>SSN</th>\n",
              "      <th>Occupation</th>\n",
              "      <th>Annual_Income</th>\n",
              "      <th>Monthly_Inhand_Salary</th>\n",
              "      <th>Num_Bank_Accounts</th>\n",
              "      <th>Num_Credit_Card</th>\n",
              "      <th>Interest_Rate</th>\n",
              "      <th>Num_of_Loan</th>\n",
              "      <th>Type_of_Loan</th>\n",
              "      <th>Delay_from_due_date</th>\n",
              "      <th>Num_of_Delayed_Payment</th>\n",
              "      <th>Changed_Credit_Limit</th>\n",
              "      <th>Num_Credit_Inquiries</th>\n",
              "      <th>Credit_Mix</th>\n",
              "      <th>Outstanding_Debt</th>\n",
              "      <th>Credit_Utilization_Ratio</th>\n",
              "      <th>Credit_History_Age</th>\n",
              "      <th>Payment_of_Min_Amount</th>\n",
              "      <th>Total_EMI_per_month</th>\n",
              "      <th>Amount_invested_monthly</th>\n",
              "      <th>Payment_Behaviour</th>\n",
              "      <th>Monthly_Balance</th>\n",
              "      <th>Credit_Score</th>\n",
              "    </tr>\n",
              "  </thead>\n",
              "  <tbody>\n",
              "    <tr>\n",
              "      <th>19486</th>\n",
              "      <td>0x882c</td>\n",
              "      <td>CUS_0x983a</td>\n",
              "      <td>July</td>\n",
              "      <td>Lynchh</td>\n",
              "      <td>53</td>\n",
              "      <td>866-48-7201</td>\n",
              "      <td>Teacher</td>\n",
              "      <td>74213.52</td>\n",
              "      <td>NaN</td>\n",
              "      <td>5</td>\n",
              "      <td>6</td>\n",
              "      <td>6</td>\n",
              "      <td>0</td>\n",
              "      <td>NaN</td>\n",
              "      <td>19</td>\n",
              "      <td>9</td>\n",
              "      <td>5.65</td>\n",
              "      <td>3.0</td>\n",
              "      <td>Standard</td>\n",
              "      <td>201.35</td>\n",
              "      <td>35.598105</td>\n",
              "      <td>18 Years and 4 Months</td>\n",
              "      <td>No</td>\n",
              "      <td>333.372936</td>\n",
              "      <td>120.17170886315306</td>\n",
              "      <td>High_spent_Large_value_payments</td>\n",
              "      <td>760.374291136847</td>\n",
              "      <td>Good</td>\n",
              "    </tr>\n",
              "    <tr>\n",
              "      <th>55578</th>\n",
              "      <td>0x15ba8</td>\n",
              "      <td>CUS_0x93a7</td>\n",
              "      <td>March</td>\n",
              "      <td>Jonathan Cablen</td>\n",
              "      <td>39</td>\n",
              "      <td>#F%$D@*&amp;8</td>\n",
              "      <td>Lawyer</td>\n",
              "      <td>7414.145</td>\n",
              "      <td>903.845417</td>\n",
              "      <td>6</td>\n",
              "      <td>8</td>\n",
              "      <td>26</td>\n",
              "      <td>9</td>\n",
              "      <td>Not Specified, Mortgage Loan, Auto Loan, Credi...</td>\n",
              "      <td>60</td>\n",
              "      <td>21</td>\n",
              "      <td>17.83</td>\n",
              "      <td>10.0</td>\n",
              "      <td>Bad</td>\n",
              "      <td>2580.05</td>\n",
              "      <td>37.943759</td>\n",
              "      <td>4 Years and 10 Months</td>\n",
              "      <td>Yes</td>\n",
              "      <td>51.416130</td>\n",
              "      <td>81.85332836218804</td>\n",
              "      <td>Low_spent_Small_value_payments</td>\n",
              "      <td>247.11508340290044</td>\n",
              "      <td>Standard</td>\n",
              "    </tr>\n",
              "    <tr>\n",
              "      <th>36933</th>\n",
              "      <td>0xee67</td>\n",
              "      <td>CUS_0x7d6e</td>\n",
              "      <td>June</td>\n",
              "      <td>Stephend</td>\n",
              "      <td>19</td>\n",
              "      <td>149-36-7063</td>\n",
              "      <td>Journalist</td>\n",
              "      <td>15508.43</td>\n",
              "      <td>NaN</td>\n",
              "      <td>4</td>\n",
              "      <td>865</td>\n",
              "      <td>16</td>\n",
              "      <td>4</td>\n",
              "      <td>Home Equity Loan, Home Equity Loan, Student Lo...</td>\n",
              "      <td>16</td>\n",
              "      <td>20</td>\n",
              "      <td>3.07</td>\n",
              "      <td>1.0</td>\n",
              "      <td>Standard</td>\n",
              "      <td>1370.52</td>\n",
              "      <td>30.081751</td>\n",
              "      <td>30 Years and 6 Months</td>\n",
              "      <td>Yes</td>\n",
              "      <td>43.057895</td>\n",
              "      <td>52.11813834072376</td>\n",
              "      <td>Low_spent_Large_value_payments</td>\n",
              "      <td>314.86088375495063</td>\n",
              "      <td>Good</td>\n",
              "    </tr>\n",
              "    <tr>\n",
              "      <th>45922</th>\n",
              "      <td>0x12314</td>\n",
              "      <td>CUS_0x1c3b</td>\n",
              "      <td>March</td>\n",
              "      <td>Alexei Anishchukq</td>\n",
              "      <td>39</td>\n",
              "      <td>596-35-8824</td>\n",
              "      <td>_______</td>\n",
              "      <td>79357.14</td>\n",
              "      <td>NaN</td>\n",
              "      <td>2</td>\n",
              "      <td>3</td>\n",
              "      <td>8</td>\n",
              "      <td>4</td>\n",
              "      <td>Credit-Builder Loan, Payday Loan, Credit-Build...</td>\n",
              "      <td>3</td>\n",
              "      <td>14</td>\n",
              "      <td>2.08</td>\n",
              "      <td>2.0</td>\n",
              "      <td>_</td>\n",
              "      <td>1171.51_</td>\n",
              "      <td>38.073390</td>\n",
              "      <td>17 Years and 11 Months</td>\n",
              "      <td>No</td>\n",
              "      <td>171.998736</td>\n",
              "      <td>113.35559501092126</td>\n",
              "      <td>High_spent_Large_value_payments</td>\n",
              "      <td>624.9551694494834</td>\n",
              "      <td>Standard</td>\n",
              "    </tr>\n",
              "  </tbody>\n",
              "</table>\n",
              "</div>\n",
              "    <div class=\"colab-df-buttons\">\n",
              "\n",
              "  <div class=\"colab-df-container\">\n",
              "    <button class=\"colab-df-convert\" onclick=\"convertToInteractive('df-282e067d-53b2-4c03-8adf-438843aea1a5')\"\n",
              "            title=\"Convert this dataframe to an interactive table.\"\n",
              "            style=\"display:none;\">\n",
              "\n",
              "  <svg xmlns=\"http://www.w3.org/2000/svg\" height=\"24px\" viewBox=\"0 -960 960 960\">\n",
              "    <path d=\"M120-120v-720h720v720H120Zm60-500h600v-160H180v160Zm220 220h160v-160H400v160Zm0 220h160v-160H400v160ZM180-400h160v-160H180v160Zm440 0h160v-160H620v160ZM180-180h160v-160H180v160Zm440 0h160v-160H620v160Z\"/>\n",
              "  </svg>\n",
              "    </button>\n",
              "\n",
              "  <style>\n",
              "    .colab-df-container {\n",
              "      display:flex;\n",
              "      gap: 12px;\n",
              "    }\n",
              "\n",
              "    .colab-df-convert {\n",
              "      background-color: #E8F0FE;\n",
              "      border: none;\n",
              "      border-radius: 50%;\n",
              "      cursor: pointer;\n",
              "      display: none;\n",
              "      fill: #1967D2;\n",
              "      height: 32px;\n",
              "      padding: 0 0 0 0;\n",
              "      width: 32px;\n",
              "    }\n",
              "\n",
              "    .colab-df-convert:hover {\n",
              "      background-color: #E2EBFA;\n",
              "      box-shadow: 0px 1px 2px rgba(60, 64, 67, 0.3), 0px 1px 3px 1px rgba(60, 64, 67, 0.15);\n",
              "      fill: #174EA6;\n",
              "    }\n",
              "\n",
              "    .colab-df-buttons div {\n",
              "      margin-bottom: 4px;\n",
              "    }\n",
              "\n",
              "    [theme=dark] .colab-df-convert {\n",
              "      background-color: #3B4455;\n",
              "      fill: #D2E3FC;\n",
              "    }\n",
              "\n",
              "    [theme=dark] .colab-df-convert:hover {\n",
              "      background-color: #434B5C;\n",
              "      box-shadow: 0px 1px 3px 1px rgba(0, 0, 0, 0.15);\n",
              "      filter: drop-shadow(0px 1px 2px rgba(0, 0, 0, 0.3));\n",
              "      fill: #FFFFFF;\n",
              "    }\n",
              "  </style>\n",
              "\n",
              "    <script>\n",
              "      const buttonEl =\n",
              "        document.querySelector('#df-282e067d-53b2-4c03-8adf-438843aea1a5 button.colab-df-convert');\n",
              "      buttonEl.style.display =\n",
              "        google.colab.kernel.accessAllowed ? 'block' : 'none';\n",
              "\n",
              "      async function convertToInteractive(key) {\n",
              "        const element = document.querySelector('#df-282e067d-53b2-4c03-8adf-438843aea1a5');\n",
              "        const dataTable =\n",
              "          await google.colab.kernel.invokeFunction('convertToInteractive',\n",
              "                                                    [key], {});\n",
              "        if (!dataTable) return;\n",
              "\n",
              "        const docLinkHtml = 'Like what you see? Visit the ' +\n",
              "          '<a target=\"_blank\" href=https://colab.research.google.com/notebooks/data_table.ipynb>data table notebook</a>'\n",
              "          + ' to learn more about interactive tables.';\n",
              "        element.innerHTML = '';\n",
              "        dataTable['output_type'] = 'display_data';\n",
              "        await google.colab.output.renderOutput(dataTable, element);\n",
              "        const docLink = document.createElement('div');\n",
              "        docLink.innerHTML = docLinkHtml;\n",
              "        element.appendChild(docLink);\n",
              "      }\n",
              "    </script>\n",
              "  </div>\n",
              "\n",
              "\n",
              "<div id=\"df-eb1a9ee4-3506-41f8-bd61-7c652dbba504\">\n",
              "  <button class=\"colab-df-quickchart\" onclick=\"quickchart('df-eb1a9ee4-3506-41f8-bd61-7c652dbba504')\"\n",
              "            title=\"Suggest charts\"\n",
              "            style=\"display:none;\">\n",
              "\n",
              "<svg xmlns=\"http://www.w3.org/2000/svg\" height=\"24px\"viewBox=\"0 0 24 24\"\n",
              "     width=\"24px\">\n",
              "    <g>\n",
              "        <path d=\"M19 3H5c-1.1 0-2 .9-2 2v14c0 1.1.9 2 2 2h14c1.1 0 2-.9 2-2V5c0-1.1-.9-2-2-2zM9 17H7v-7h2v7zm4 0h-2V7h2v10zm4 0h-2v-4h2v4z\"/>\n",
              "    </g>\n",
              "</svg>\n",
              "  </button>\n",
              "\n",
              "<style>\n",
              "  .colab-df-quickchart {\n",
              "      --bg-color: #E8F0FE;\n",
              "      --fill-color: #1967D2;\n",
              "      --hover-bg-color: #E2EBFA;\n",
              "      --hover-fill-color: #174EA6;\n",
              "      --disabled-fill-color: #AAA;\n",
              "      --disabled-bg-color: #DDD;\n",
              "  }\n",
              "\n",
              "  [theme=dark] .colab-df-quickchart {\n",
              "      --bg-color: #3B4455;\n",
              "      --fill-color: #D2E3FC;\n",
              "      --hover-bg-color: #434B5C;\n",
              "      --hover-fill-color: #FFFFFF;\n",
              "      --disabled-bg-color: #3B4455;\n",
              "      --disabled-fill-color: #666;\n",
              "  }\n",
              "\n",
              "  .colab-df-quickchart {\n",
              "    background-color: var(--bg-color);\n",
              "    border: none;\n",
              "    border-radius: 50%;\n",
              "    cursor: pointer;\n",
              "    display: none;\n",
              "    fill: var(--fill-color);\n",
              "    height: 32px;\n",
              "    padding: 0;\n",
              "    width: 32px;\n",
              "  }\n",
              "\n",
              "  .colab-df-quickchart:hover {\n",
              "    background-color: var(--hover-bg-color);\n",
              "    box-shadow: 0 1px 2px rgba(60, 64, 67, 0.3), 0 1px 3px 1px rgba(60, 64, 67, 0.15);\n",
              "    fill: var(--button-hover-fill-color);\n",
              "  }\n",
              "\n",
              "  .colab-df-quickchart-complete:disabled,\n",
              "  .colab-df-quickchart-complete:disabled:hover {\n",
              "    background-color: var(--disabled-bg-color);\n",
              "    fill: var(--disabled-fill-color);\n",
              "    box-shadow: none;\n",
              "  }\n",
              "\n",
              "  .colab-df-spinner {\n",
              "    border: 2px solid var(--fill-color);\n",
              "    border-color: transparent;\n",
              "    border-bottom-color: var(--fill-color);\n",
              "    animation:\n",
              "      spin 1s steps(1) infinite;\n",
              "  }\n",
              "\n",
              "  @keyframes spin {\n",
              "    0% {\n",
              "      border-color: transparent;\n",
              "      border-bottom-color: var(--fill-color);\n",
              "      border-left-color: var(--fill-color);\n",
              "    }\n",
              "    20% {\n",
              "      border-color: transparent;\n",
              "      border-left-color: var(--fill-color);\n",
              "      border-top-color: var(--fill-color);\n",
              "    }\n",
              "    30% {\n",
              "      border-color: transparent;\n",
              "      border-left-color: var(--fill-color);\n",
              "      border-top-color: var(--fill-color);\n",
              "      border-right-color: var(--fill-color);\n",
              "    }\n",
              "    40% {\n",
              "      border-color: transparent;\n",
              "      border-right-color: var(--fill-color);\n",
              "      border-top-color: var(--fill-color);\n",
              "    }\n",
              "    60% {\n",
              "      border-color: transparent;\n",
              "      border-right-color: var(--fill-color);\n",
              "    }\n",
              "    80% {\n",
              "      border-color: transparent;\n",
              "      border-right-color: var(--fill-color);\n",
              "      border-bottom-color: var(--fill-color);\n",
              "    }\n",
              "    90% {\n",
              "      border-color: transparent;\n",
              "      border-bottom-color: var(--fill-color);\n",
              "    }\n",
              "  }\n",
              "</style>\n",
              "\n",
              "  <script>\n",
              "    async function quickchart(key) {\n",
              "      const quickchartButtonEl =\n",
              "        document.querySelector('#' + key + ' button');\n",
              "      quickchartButtonEl.disabled = true;  // To prevent multiple clicks.\n",
              "      quickchartButtonEl.classList.add('colab-df-spinner');\n",
              "      try {\n",
              "        const charts = await google.colab.kernel.invokeFunction(\n",
              "            'suggestCharts', [key], {});\n",
              "      } catch (error) {\n",
              "        console.error('Error during call to suggestCharts:', error);\n",
              "      }\n",
              "      quickchartButtonEl.classList.remove('colab-df-spinner');\n",
              "      quickchartButtonEl.classList.add('colab-df-quickchart-complete');\n",
              "    }\n",
              "    (() => {\n",
              "      let quickchartButtonEl =\n",
              "        document.querySelector('#df-eb1a9ee4-3506-41f8-bd61-7c652dbba504 button');\n",
              "      quickchartButtonEl.style.display =\n",
              "        google.colab.kernel.accessAllowed ? 'block' : 'none';\n",
              "    })();\n",
              "  </script>\n",
              "</div>\n",
              "    </div>\n",
              "  </div>\n"
            ],
            "text/plain": [
              "            ID Customer_ID  Month               Name Age          SSN  Occupation Annual_Income  Monthly_Inhand_Salary  Num_Bank_Accounts  Num_Credit_Card  Interest_Rate Num_of_Loan                                       Type_of_Loan  Delay_from_due_date Num_of_Delayed_Payment Changed_Credit_Limit  Num_Credit_Inquiries Credit_Mix Outstanding_Debt  Credit_Utilization_Ratio      Credit_History_Age Payment_of_Min_Amount  Total_EMI_per_month Amount_invested_monthly                Payment_Behaviour     Monthly_Balance Credit_Score\n",
              "19486   0x882c  CUS_0x983a   July             Lynchh  53  866-48-7201     Teacher      74213.52                    NaN                  5                6              6           0                                                NaN                   19                      9                 5.65                   3.0   Standard           201.35                 35.598105   18 Years and 4 Months                    No           333.372936      120.17170886315306  High_spent_Large_value_payments    760.374291136847         Good\n",
              "55578  0x15ba8  CUS_0x93a7  March    Jonathan Cablen  39    #F%$D@*&8      Lawyer      7414.145             903.845417                  6                8             26           9  Not Specified, Mortgage Loan, Auto Loan, Credi...                   60                     21                17.83                  10.0        Bad          2580.05                 37.943759   4 Years and 10 Months                   Yes            51.416130       81.85332836218804   Low_spent_Small_value_payments  247.11508340290044     Standard\n",
              "36933   0xee67  CUS_0x7d6e   June           Stephend  19  149-36-7063  Journalist      15508.43                    NaN                  4              865             16           4  Home Equity Loan, Home Equity Loan, Student Lo...                   16                     20                 3.07                   1.0   Standard          1370.52                 30.081751   30 Years and 6 Months                   Yes            43.057895       52.11813834072376   Low_spent_Large_value_payments  314.86088375495063         Good\n",
              "45922  0x12314  CUS_0x1c3b  March  Alexei Anishchukq  39  596-35-8824     _______      79357.14                    NaN                  2                3              8           4  Credit-Builder Loan, Payday Loan, Credit-Build...                    3                     14                 2.08                   2.0          _         1171.51_                 38.073390  17 Years and 11 Months                    No           171.998736      113.35559501092126  High_spent_Large_value_payments   624.9551694494834     Standard"
            ]
          },
          "execution_count": 56,
          "metadata": {},
          "output_type": "execute_result"
        }
      ],
      "source": [
        "df.sample(4)"
      ]
    },
    {
      "cell_type": "markdown",
      "metadata": {
        "id": "FIT1u2fnram_"
      },
      "source": [
        "**Смотрим на наш таргет**"
      ]
    },
    {
      "cell_type": "code",
      "execution_count": null,
      "metadata": {
        "colab": {
          "base_uri": "https://localhost:8080/",
          "height": 320
        },
        "id": "wrhCVp2Z3eBe",
        "outputId": "fbbba9f4-545f-456e-def4-c6326bee0378"
      },
      "outputs": [
        {
          "data": {
            "application/vnd.google.colaboratory.intrinsic+json": {
              "summary": "{\n  \"name\": \"df\",\n  \"rows\": 8,\n  \"fields\": [\n    {\n      \"column\": \"Monthly_Inhand_Salary\",\n      \"properties\": {\n        \"dtype\": \"number\",\n        \"std\": 28721.02050010101,\n        \"min\": 303.6454166666666,\n        \"max\": 84998.0,\n        \"num_unique_values\": 8,\n        \"samples\": [\n          4194.170849600523,\n          3093.745000000001,\n          84998.0\n        ],\n        \"semantic_type\": \"\",\n        \"description\": \"\"\n      }\n    },\n    {\n      \"column\": \"Num_Bank_Accounts\",\n      \"properties\": {\n        \"dtype\": \"number\",\n        \"std\": 35262.45571123334,\n        \"min\": -1.0,\n        \"max\": 100000.0,\n        \"num_unique_values\": 8,\n        \"samples\": [\n          17.09128,\n          6.0,\n          100000.0\n        ],\n        \"semantic_type\": \"\",\n        \"description\": \"\"\n      }\n    },\n    {\n      \"column\": \"Num_Credit_Card\",\n      \"properties\": {\n        \"dtype\": \"number\",\n        \"std\": 35274.94819246088,\n        \"min\": 0.0,\n        \"max\": 100000.0,\n        \"num_unique_values\": 8,\n        \"samples\": [\n          22.47443,\n          5.0,\n          100000.0\n        ],\n        \"semantic_type\": \"\",\n        \"description\": \"\"\n      }\n    },\n    {\n      \"column\": \"Interest_Rate\",\n      \"properties\": {\n        \"dtype\": \"number\",\n        \"std\": 35090.285071687635,\n        \"min\": 1.0,\n        \"max\": 100000.0,\n        \"num_unique_values\": 8,\n        \"samples\": [\n          72.46604,\n          13.0,\n          100000.0\n        ],\n        \"semantic_type\": \"\",\n        \"description\": \"\"\n      }\n    },\n    {\n      \"column\": \"Delay_from_due_date\",\n      \"properties\": {\n        \"dtype\": \"number\",\n        \"std\": 35347.57054259866,\n        \"min\": -5.0,\n        \"max\": 100000.0,\n        \"num_unique_values\": 8,\n        \"samples\": [\n          21.06878,\n          18.0,\n          100000.0\n        ],\n        \"semantic_type\": \"\",\n        \"description\": \"\"\n      }\n    },\n    {\n      \"column\": \"Num_Credit_Inquiries\",\n      \"properties\": {\n        \"dtype\": \"number\",\n        \"std\": 34529.0265942048,\n        \"min\": 0.0,\n        \"max\": 98035.0,\n        \"num_unique_values\": 8,\n        \"samples\": [\n          27.75425103279441,\n          6.0,\n          98035.0\n        ],\n        \"semantic_type\": \"\",\n        \"description\": \"\"\n      }\n    },\n    {\n      \"column\": \"Credit_Utilization_Ratio\",\n      \"properties\": {\n        \"dtype\": \"number\",\n        \"std\": 35345.024886297695,\n        \"min\": 5.116875070150906,\n        \"max\": 100000.0,\n        \"num_unique_values\": 8,\n        \"samples\": [\n          32.2851725189436,\n          32.30578367171092,\n          100000.0\n        ],\n        \"semantic_type\": \"\",\n        \"description\": \"\"\n      }\n    },\n    {\n      \"column\": \"Total_EMI_per_month\",\n      \"properties\": {\n        \"dtype\": \"number\",\n        \"std\": 41793.58784756127,\n        \"min\": 0.0,\n        \"max\": 100000.0,\n        \"num_unique_values\": 8,\n        \"samples\": [\n          1403.1182166159933,\n          69.24947329972044,\n          100000.0\n        ],\n        \"semantic_type\": \"\",\n        \"description\": \"\"\n      }\n    }\n  ]\n}",
              "type": "dataframe"
            },
            "text/html": [
              "\n",
              "  <div id=\"df-648bcfc6-6b6f-4a65-9826-64b474fbdc71\" class=\"colab-df-container\">\n",
              "    <div>\n",
              "<style scoped>\n",
              "    .dataframe tbody tr th:only-of-type {\n",
              "        vertical-align: middle;\n",
              "    }\n",
              "\n",
              "    .dataframe tbody tr th {\n",
              "        vertical-align: top;\n",
              "    }\n",
              "\n",
              "    .dataframe thead th {\n",
              "        text-align: right;\n",
              "    }\n",
              "</style>\n",
              "<table border=\"1\" class=\"dataframe\">\n",
              "  <thead>\n",
              "    <tr style=\"text-align: right;\">\n",
              "      <th></th>\n",
              "      <th>Monthly_Inhand_Salary</th>\n",
              "      <th>Num_Bank_Accounts</th>\n",
              "      <th>Num_Credit_Card</th>\n",
              "      <th>Interest_Rate</th>\n",
              "      <th>Delay_from_due_date</th>\n",
              "      <th>Num_Credit_Inquiries</th>\n",
              "      <th>Credit_Utilization_Ratio</th>\n",
              "      <th>Total_EMI_per_month</th>\n",
              "    </tr>\n",
              "  </thead>\n",
              "  <tbody>\n",
              "    <tr>\n",
              "      <th>count</th>\n",
              "      <td>84998.000000</td>\n",
              "      <td>100000.000000</td>\n",
              "      <td>100000.00000</td>\n",
              "      <td>100000.000000</td>\n",
              "      <td>100000.000000</td>\n",
              "      <td>98035.000000</td>\n",
              "      <td>100000.000000</td>\n",
              "      <td>100000.000000</td>\n",
              "    </tr>\n",
              "    <tr>\n",
              "      <th>mean</th>\n",
              "      <td>4194.170850</td>\n",
              "      <td>17.091280</td>\n",
              "      <td>22.47443</td>\n",
              "      <td>72.466040</td>\n",
              "      <td>21.068780</td>\n",
              "      <td>27.754251</td>\n",
              "      <td>32.285173</td>\n",
              "      <td>1403.118217</td>\n",
              "    </tr>\n",
              "    <tr>\n",
              "      <th>std</th>\n",
              "      <td>3183.686167</td>\n",
              "      <td>117.404834</td>\n",
              "      <td>129.05741</td>\n",
              "      <td>466.422621</td>\n",
              "      <td>14.860104</td>\n",
              "      <td>193.177339</td>\n",
              "      <td>5.116875</td>\n",
              "      <td>8306.041270</td>\n",
              "    </tr>\n",
              "    <tr>\n",
              "      <th>min</th>\n",
              "      <td>303.645417</td>\n",
              "      <td>-1.000000</td>\n",
              "      <td>0.00000</td>\n",
              "      <td>1.000000</td>\n",
              "      <td>-5.000000</td>\n",
              "      <td>0.000000</td>\n",
              "      <td>20.000000</td>\n",
              "      <td>0.000000</td>\n",
              "    </tr>\n",
              "    <tr>\n",
              "      <th>25%</th>\n",
              "      <td>1625.568229</td>\n",
              "      <td>3.000000</td>\n",
              "      <td>4.00000</td>\n",
              "      <td>8.000000</td>\n",
              "      <td>10.000000</td>\n",
              "      <td>3.000000</td>\n",
              "      <td>28.052567</td>\n",
              "      <td>30.306660</td>\n",
              "    </tr>\n",
              "    <tr>\n",
              "      <th>50%</th>\n",
              "      <td>3093.745000</td>\n",
              "      <td>6.000000</td>\n",
              "      <td>5.00000</td>\n",
              "      <td>13.000000</td>\n",
              "      <td>18.000000</td>\n",
              "      <td>6.000000</td>\n",
              "      <td>32.305784</td>\n",
              "      <td>69.249473</td>\n",
              "    </tr>\n",
              "    <tr>\n",
              "      <th>75%</th>\n",
              "      <td>5957.448333</td>\n",
              "      <td>7.000000</td>\n",
              "      <td>7.00000</td>\n",
              "      <td>20.000000</td>\n",
              "      <td>28.000000</td>\n",
              "      <td>9.000000</td>\n",
              "      <td>36.496663</td>\n",
              "      <td>161.224249</td>\n",
              "    </tr>\n",
              "    <tr>\n",
              "      <th>max</th>\n",
              "      <td>15204.633333</td>\n",
              "      <td>1798.000000</td>\n",
              "      <td>1499.00000</td>\n",
              "      <td>5797.000000</td>\n",
              "      <td>67.000000</td>\n",
              "      <td>2597.000000</td>\n",
              "      <td>50.000000</td>\n",
              "      <td>82331.000000</td>\n",
              "    </tr>\n",
              "  </tbody>\n",
              "</table>\n",
              "</div>\n",
              "    <div class=\"colab-df-buttons\">\n",
              "\n",
              "  <div class=\"colab-df-container\">\n",
              "    <button class=\"colab-df-convert\" onclick=\"convertToInteractive('df-648bcfc6-6b6f-4a65-9826-64b474fbdc71')\"\n",
              "            title=\"Convert this dataframe to an interactive table.\"\n",
              "            style=\"display:none;\">\n",
              "\n",
              "  <svg xmlns=\"http://www.w3.org/2000/svg\" height=\"24px\" viewBox=\"0 -960 960 960\">\n",
              "    <path d=\"M120-120v-720h720v720H120Zm60-500h600v-160H180v160Zm220 220h160v-160H400v160Zm0 220h160v-160H400v160ZM180-400h160v-160H180v160Zm440 0h160v-160H620v160ZM180-180h160v-160H180v160Zm440 0h160v-160H620v160Z\"/>\n",
              "  </svg>\n",
              "    </button>\n",
              "\n",
              "  <style>\n",
              "    .colab-df-container {\n",
              "      display:flex;\n",
              "      gap: 12px;\n",
              "    }\n",
              "\n",
              "    .colab-df-convert {\n",
              "      background-color: #E8F0FE;\n",
              "      border: none;\n",
              "      border-radius: 50%;\n",
              "      cursor: pointer;\n",
              "      display: none;\n",
              "      fill: #1967D2;\n",
              "      height: 32px;\n",
              "      padding: 0 0 0 0;\n",
              "      width: 32px;\n",
              "    }\n",
              "\n",
              "    .colab-df-convert:hover {\n",
              "      background-color: #E2EBFA;\n",
              "      box-shadow: 0px 1px 2px rgba(60, 64, 67, 0.3), 0px 1px 3px 1px rgba(60, 64, 67, 0.15);\n",
              "      fill: #174EA6;\n",
              "    }\n",
              "\n",
              "    .colab-df-buttons div {\n",
              "      margin-bottom: 4px;\n",
              "    }\n",
              "\n",
              "    [theme=dark] .colab-df-convert {\n",
              "      background-color: #3B4455;\n",
              "      fill: #D2E3FC;\n",
              "    }\n",
              "\n",
              "    [theme=dark] .colab-df-convert:hover {\n",
              "      background-color: #434B5C;\n",
              "      box-shadow: 0px 1px 3px 1px rgba(0, 0, 0, 0.15);\n",
              "      filter: drop-shadow(0px 1px 2px rgba(0, 0, 0, 0.3));\n",
              "      fill: #FFFFFF;\n",
              "    }\n",
              "  </style>\n",
              "\n",
              "    <script>\n",
              "      const buttonEl =\n",
              "        document.querySelector('#df-648bcfc6-6b6f-4a65-9826-64b474fbdc71 button.colab-df-convert');\n",
              "      buttonEl.style.display =\n",
              "        google.colab.kernel.accessAllowed ? 'block' : 'none';\n",
              "\n",
              "      async function convertToInteractive(key) {\n",
              "        const element = document.querySelector('#df-648bcfc6-6b6f-4a65-9826-64b474fbdc71');\n",
              "        const dataTable =\n",
              "          await google.colab.kernel.invokeFunction('convertToInteractive',\n",
              "                                                    [key], {});\n",
              "        if (!dataTable) return;\n",
              "\n",
              "        const docLinkHtml = 'Like what you see? Visit the ' +\n",
              "          '<a target=\"_blank\" href=https://colab.research.google.com/notebooks/data_table.ipynb>data table notebook</a>'\n",
              "          + ' to learn more about interactive tables.';\n",
              "        element.innerHTML = '';\n",
              "        dataTable['output_type'] = 'display_data';\n",
              "        await google.colab.output.renderOutput(dataTable, element);\n",
              "        const docLink = document.createElement('div');\n",
              "        docLink.innerHTML = docLinkHtml;\n",
              "        element.appendChild(docLink);\n",
              "      }\n",
              "    </script>\n",
              "  </div>\n",
              "\n",
              "\n",
              "<div id=\"df-2d0293b5-4cad-481b-9d16-4195c6986741\">\n",
              "  <button class=\"colab-df-quickchart\" onclick=\"quickchart('df-2d0293b5-4cad-481b-9d16-4195c6986741')\"\n",
              "            title=\"Suggest charts\"\n",
              "            style=\"display:none;\">\n",
              "\n",
              "<svg xmlns=\"http://www.w3.org/2000/svg\" height=\"24px\"viewBox=\"0 0 24 24\"\n",
              "     width=\"24px\">\n",
              "    <g>\n",
              "        <path d=\"M19 3H5c-1.1 0-2 .9-2 2v14c0 1.1.9 2 2 2h14c1.1 0 2-.9 2-2V5c0-1.1-.9-2-2-2zM9 17H7v-7h2v7zm4 0h-2V7h2v10zm4 0h-2v-4h2v4z\"/>\n",
              "    </g>\n",
              "</svg>\n",
              "  </button>\n",
              "\n",
              "<style>\n",
              "  .colab-df-quickchart {\n",
              "      --bg-color: #E8F0FE;\n",
              "      --fill-color: #1967D2;\n",
              "      --hover-bg-color: #E2EBFA;\n",
              "      --hover-fill-color: #174EA6;\n",
              "      --disabled-fill-color: #AAA;\n",
              "      --disabled-bg-color: #DDD;\n",
              "  }\n",
              "\n",
              "  [theme=dark] .colab-df-quickchart {\n",
              "      --bg-color: #3B4455;\n",
              "      --fill-color: #D2E3FC;\n",
              "      --hover-bg-color: #434B5C;\n",
              "      --hover-fill-color: #FFFFFF;\n",
              "      --disabled-bg-color: #3B4455;\n",
              "      --disabled-fill-color: #666;\n",
              "  }\n",
              "\n",
              "  .colab-df-quickchart {\n",
              "    background-color: var(--bg-color);\n",
              "    border: none;\n",
              "    border-radius: 50%;\n",
              "    cursor: pointer;\n",
              "    display: none;\n",
              "    fill: var(--fill-color);\n",
              "    height: 32px;\n",
              "    padding: 0;\n",
              "    width: 32px;\n",
              "  }\n",
              "\n",
              "  .colab-df-quickchart:hover {\n",
              "    background-color: var(--hover-bg-color);\n",
              "    box-shadow: 0 1px 2px rgba(60, 64, 67, 0.3), 0 1px 3px 1px rgba(60, 64, 67, 0.15);\n",
              "    fill: var(--button-hover-fill-color);\n",
              "  }\n",
              "\n",
              "  .colab-df-quickchart-complete:disabled,\n",
              "  .colab-df-quickchart-complete:disabled:hover {\n",
              "    background-color: var(--disabled-bg-color);\n",
              "    fill: var(--disabled-fill-color);\n",
              "    box-shadow: none;\n",
              "  }\n",
              "\n",
              "  .colab-df-spinner {\n",
              "    border: 2px solid var(--fill-color);\n",
              "    border-color: transparent;\n",
              "    border-bottom-color: var(--fill-color);\n",
              "    animation:\n",
              "      spin 1s steps(1) infinite;\n",
              "  }\n",
              "\n",
              "  @keyframes spin {\n",
              "    0% {\n",
              "      border-color: transparent;\n",
              "      border-bottom-color: var(--fill-color);\n",
              "      border-left-color: var(--fill-color);\n",
              "    }\n",
              "    20% {\n",
              "      border-color: transparent;\n",
              "      border-left-color: var(--fill-color);\n",
              "      border-top-color: var(--fill-color);\n",
              "    }\n",
              "    30% {\n",
              "      border-color: transparent;\n",
              "      border-left-color: var(--fill-color);\n",
              "      border-top-color: var(--fill-color);\n",
              "      border-right-color: var(--fill-color);\n",
              "    }\n",
              "    40% {\n",
              "      border-color: transparent;\n",
              "      border-right-color: var(--fill-color);\n",
              "      border-top-color: var(--fill-color);\n",
              "    }\n",
              "    60% {\n",
              "      border-color: transparent;\n",
              "      border-right-color: var(--fill-color);\n",
              "    }\n",
              "    80% {\n",
              "      border-color: transparent;\n",
              "      border-right-color: var(--fill-color);\n",
              "      border-bottom-color: var(--fill-color);\n",
              "    }\n",
              "    90% {\n",
              "      border-color: transparent;\n",
              "      border-bottom-color: var(--fill-color);\n",
              "    }\n",
              "  }\n",
              "</style>\n",
              "\n",
              "  <script>\n",
              "    async function quickchart(key) {\n",
              "      const quickchartButtonEl =\n",
              "        document.querySelector('#' + key + ' button');\n",
              "      quickchartButtonEl.disabled = true;  // To prevent multiple clicks.\n",
              "      quickchartButtonEl.classList.add('colab-df-spinner');\n",
              "      try {\n",
              "        const charts = await google.colab.kernel.invokeFunction(\n",
              "            'suggestCharts', [key], {});\n",
              "      } catch (error) {\n",
              "        console.error('Error during call to suggestCharts:', error);\n",
              "      }\n",
              "      quickchartButtonEl.classList.remove('colab-df-spinner');\n",
              "      quickchartButtonEl.classList.add('colab-df-quickchart-complete');\n",
              "    }\n",
              "    (() => {\n",
              "      let quickchartButtonEl =\n",
              "        document.querySelector('#df-2d0293b5-4cad-481b-9d16-4195c6986741 button');\n",
              "      quickchartButtonEl.style.display =\n",
              "        google.colab.kernel.accessAllowed ? 'block' : 'none';\n",
              "    })();\n",
              "  </script>\n",
              "</div>\n",
              "    </div>\n",
              "  </div>\n"
            ],
            "text/plain": [
              "       Monthly_Inhand_Salary  Num_Bank_Accounts  Num_Credit_Card  Interest_Rate  Delay_from_due_date  Num_Credit_Inquiries  Credit_Utilization_Ratio  Total_EMI_per_month\n",
              "count           84998.000000      100000.000000     100000.00000  100000.000000        100000.000000          98035.000000             100000.000000        100000.000000\n",
              "mean             4194.170850          17.091280         22.47443      72.466040            21.068780             27.754251                 32.285173          1403.118217\n",
              "std              3183.686167         117.404834        129.05741     466.422621            14.860104            193.177339                  5.116875          8306.041270\n",
              "min               303.645417          -1.000000          0.00000       1.000000            -5.000000              0.000000                 20.000000             0.000000\n",
              "25%              1625.568229           3.000000          4.00000       8.000000            10.000000              3.000000                 28.052567            30.306660\n",
              "50%              3093.745000           6.000000          5.00000      13.000000            18.000000              6.000000                 32.305784            69.249473\n",
              "75%              5957.448333           7.000000          7.00000      20.000000            28.000000              9.000000                 36.496663           161.224249\n",
              "max             15204.633333        1798.000000       1499.00000    5797.000000            67.000000           2597.000000                 50.000000         82331.000000"
            ]
          },
          "execution_count": 57,
          "metadata": {},
          "output_type": "execute_result"
        }
      ],
      "source": [
        "df.describe()"
      ]
    },
    {
      "cell_type": "code",
      "execution_count": null,
      "metadata": {
        "colab": {
          "base_uri": "https://localhost:8080/",
          "height": 447
        },
        "id": "nMV9dGaSF5Xw",
        "outputId": "227761fe-bf58-4c9a-ec96-da25f394c61b"
      },
      "outputs": [
        {
          "data": {
            "text/plain": [
              "<Axes: >"
            ]
          },
          "execution_count": 58,
          "metadata": {},
          "output_type": "execute_result"
        },
        {
          "data": {
            "image/png": "[encoded data removed]",
            "text/plain": [
              "<Figure size 640x480 with 1 Axes>"
            ]
          },
          "metadata": {},
          "output_type": "display_data"
        }
      ],
      "source": [
        "df['Credit_Score'].hist()"
      ]
    },
    {
      "cell_type": "code",
      "execution_count": null,
      "metadata": {
        "colab": {
          "base_uri": "https://localhost:8080/"
        },
        "id": "gPSpXVvFrxeA",
        "outputId": "95d707cc-86c2-4255-b212-277288949ded"
      },
      "outputs": [
        {
          "name": "stdout",
          "output_type": "stream",
          "text": [
            "<class 'pandas.core.frame.DataFrame'>\n",
            "RangeIndex: 100000 entries, 0 to 99999\n",
            "Data columns (total 28 columns):\n",
            " #   Column                    Non-Null Count   Dtype  \n",
            "---  ------                    --------------   -----  \n",
            " 0   ID                        100000 non-null  object \n",
            " 1   Customer_ID               100000 non-null  object \n",
            " 2   Month                     100000 non-null  object \n",
            " 3   Name                      90015 non-null   object \n",
            " 4   Age                       100000 non-null  object \n",
            " 5   SSN                       100000 non-null  object \n",
            " 6   Occupation                100000 non-null  object \n",
            " 7   Annual_Income             100000 non-null  object \n",
            " 8   Monthly_Inhand_Salary     84998 non-null   float64\n",
            " 9   Num_Bank_Accounts         100000 non-null  int64  \n",
            " 10  Num_Credit_Card           100000 non-null  int64  \n",
            " 11  Interest_Rate             100000 non-null  int64  \n",
            " 12  Num_of_Loan               100000 non-null  object \n",
            " 13  Type_of_Loan              88592 non-null   object \n",
            " 14  Delay_from_due_date       100000 non-null  int64  \n",
            " 15  Num_of_Delayed_Payment    92998 non-null   object \n",
            " 16  Changed_Credit_Limit      100000 non-null  object \n",
            " 17  Num_Credit_Inquiries      98035 non-null   float64\n",
            " 18  Credit_Mix                100000 non-null  object \n",
            " 19  Outstanding_Debt          100000 non-null  object \n",
            " 20  Credit_Utilization_Ratio  100000 non-null  float64\n",
            " 21  Credit_History_Age        90970 non-null   object \n",
            " 22  Payment_of_Min_Amount     100000 non-null  object \n",
            " 23  Total_EMI_per_month       100000 non-null  float64\n",
            " 24  Amount_invested_monthly   95521 non-null   object \n",
            " 25  Payment_Behaviour         100000 non-null  object \n",
            " 26  Monthly_Balance           98800 non-null   object \n",
            " 27  Credit_Score              100000 non-null  object \n",
            "dtypes: float64(4), int64(4), object(20)\n",
            "memory usage: 21.4+ MB\n"
          ]
        }
      ],
      "source": [
        "df.info()"
      ]
    },
    {
      "cell_type": "code",
      "execution_count": null,
      "metadata": {
        "colab": {
          "base_uri": "https://localhost:8080/"
        },
        "id": "Ln_EXH4b3mFW",
        "outputId": "d540287b-d258-4ce3-e979-cb799fc2893a"
      },
      "outputs": [
        {
          "data": {
            "text/plain": [
              "ID                              0\n",
              "Customer_ID                     0\n",
              "Month                           0\n",
              "Name                         9985\n",
              "Age                             0\n",
              "SSN                             0\n",
              "Occupation                      0\n",
              "Annual_Income                   0\n",
              "Monthly_Inhand_Salary       15002\n",
              "Num_Bank_Accounts               0\n",
              "Num_Credit_Card                 0\n",
              "Interest_Rate                   0\n",
              "Num_of_Loan                     0\n",
              "Type_of_Loan                11408\n",
              "Delay_from_due_date             0\n",
              "Num_of_Delayed_Payment       7002\n",
              "Changed_Credit_Limit            0\n",
              "Num_Credit_Inquiries         1965\n",
              "Credit_Mix                      0\n",
              "Outstanding_Debt                0\n",
              "Credit_Utilization_Ratio        0\n",
              "Credit_History_Age           9030\n",
              "Payment_of_Min_Amount           0\n",
              "Total_EMI_per_month             0\n",
              "Amount_invested_monthly      4479\n",
              "Payment_Behaviour               0\n",
              "Monthly_Balance              1200\n",
              "Credit_Score                    0\n",
              "dtype: int64"
            ]
          },
          "execution_count": 60,
          "metadata": {},
          "output_type": "execute_result"
        }
      ],
      "source": [
        "df.isna().sum()"
      ]
    },
    {
      "cell_type": "markdown",
      "metadata": {
        "id": "ld6pbGtfrsqC"
      },
      "source": [
        " * Видим большое колличество нулевых значений\n",
        " * Пропуски не только у числовых значений, но и у текстовых"
      ]
    },
    {
      "cell_type": "code",
      "execution_count": null,
      "metadata": {
        "id": "hhuMiZhmVxSr"
      },
      "outputs": [],
      "source": [
        "df = df.drop(['Name'], axis = 1) # избавляемся от имен для полит. корректности\n",
        "df = df.drop(['ID'], axis = 1)\n",
        "df = df.drop(['Customer_ID'], axis = 1)"
      ]
    },
    {
      "cell_type": "markdown",
      "metadata": {
        "id": "UJSPPFlbs9mL"
      },
      "source": [
        "# **Заполнение пропусков**"
      ]
    },
    {
      "cell_type": "markdown",
      "metadata": {
        "id": "g0jruDIWtGva"
      },
      "source": [
        "* Две необходимые переменные заполним ближайшими соседями\n",
        "* (По самим значения в колонках видно, что это хороший вариант)"
      ]
    },
    {
      "cell_type": "code",
      "execution_count": null,
      "metadata": {
        "colab": {
          "base_uri": "https://localhost:8080/"
        },
        "id": "LdEMH-UmtuVk",
        "outputId": "a6533220-2270-49f5-e575-0778e024e17c"
      },
      "outputs": [
        {
          "data": {
            "text/plain": [
              "0      1824.843333\n",
              "1              NaN\n",
              "2              NaN\n",
              "3              NaN\n",
              "4      1824.843333\n",
              "5              NaN\n",
              "6      1824.843333\n",
              "7      1824.843333\n",
              "8      3037.986667\n",
              "9      3037.986667\n",
              "10     3037.986667\n",
              "11             NaN\n",
              "12     3037.986667\n",
              "13     3037.986667\n",
              "14             NaN\n",
              "15     3037.986667\n",
              "16    12187.220000\n",
              "17    12187.220000\n",
              "18             NaN\n",
              "19    12187.220000\n",
              "Name: Monthly_Inhand_Salary, dtype: float64"
            ]
          },
          "execution_count": 62,
          "metadata": {},
          "output_type": "execute_result"
        }
      ],
      "source": [
        "df['Monthly_Inhand_Salary'].head(20)"
      ]
    },
    {
      "cell_type": "code",
      "execution_count": null,
      "metadata": {
        "id": "R7XMxSbDXsY3"
      },
      "outputs": [],
      "source": [
        "imputer = KNNImputer(n_neighbors=2)\n",
        "\n",
        "monthly_inhand_salary = df['Monthly_Inhand_Salary'].values.reshape(-1, 1)\n",
        "Num_Credit_Inquiries = df['Num_Credit_Inquiries'].values.reshape(-1, 1)\n",
        "\n",
        "\n",
        "df['Monthly_Inhand_Salary'] = imputer.fit_transform(monthly_inhand_salary)\n",
        "df['Num_Credit_Inquiries'] = imputer.fit_transform(Num_Credit_Inquiries)"
      ]
    },
    {
      "cell_type": "markdown",
      "metadata": {
        "id": "UXzq48xbt0Yi"
      },
      "source": [
        "Далее преобразовываем строковые значения в числовые и заполняем их медианой"
      ]
    },
    {
      "cell_type": "code",
      "execution_count": null,
      "metadata": {
        "id": "EUtSOTzEaWYX"
      },
      "outputs": [],
      "source": [
        "df['Num_of_Delayed_Payment'] = df['Num_of_Delayed_Payment'].astype(str).str.replace(r'[^\\d.]+', '', regex=True)\n",
        "df['Amount_invested_monthly'] = df['Amount_invested_monthly'].astype(str).str.replace(r'[^\\d.]+', '', regex=True)\n",
        "df['Monthly_Balance'] = df['Monthly_Balance'].astype(str).str.replace(r'[^\\d.]+', '', regex=True)\n",
        "\n",
        "\n",
        "df['Num_of_Delayed_Payment'] = pd.to_numeric(df['Num_of_Delayed_Payment'])\n",
        "df['Amount_invested_monthly'] = pd.to_numeric(df['Amount_invested_monthly'])\n",
        "\n",
        "\n",
        "\n",
        "median_value = df['Amount_invested_monthly'].median()\n",
        "df['Amount_invested_monthly'].fillna(median_value, inplace=True)\n",
        "\n",
        "median_value = df['Num_of_Delayed_Payment'].median()\n",
        "df['Num_of_Delayed_Payment'].fillna(median_value, inplace=True)"
      ]
    },
    {
      "cell_type": "markdown",
      "metadata": {
        "id": "Txz9zMsguEnb"
      },
      "source": [
        "Ниже мы преобразуем строковый тип в дату"
      ]
    },
    {
      "cell_type": "code",
      "execution_count": null,
      "metadata": {
        "id": "fu1NCP4lh-ma"
      },
      "outputs": [],
      "source": [
        "def convert_to_months(period_str):\n",
        "    if pd.isnull(period_str):\n",
        "        return None\n",
        "    parts = period_str.split(' ')\n",
        "    years = int(parts[0]) if parts[0].isdigit() else 0\n",
        "    months = int(parts[3]) if len(parts) > 3 and parts[3].isdigit() else 0\n",
        "    return years * 12 + months\n",
        "\n",
        "df['Credit_History_Age'] = df['Credit_History_Age'].apply(convert_to_months)\n",
        "\n",
        "df['Credit_History_Age'].fillna(df['Credit_History_Age'].median(), inplace=True)"
      ]
    },
    {
      "cell_type": "code",
      "execution_count": null,
      "metadata": {
        "id": "hmTKDp9hmq_z"
      },
      "outputs": [],
      "source": [
        "df['Type_of_Loan'].fillna('Not Specified', inplace=True)"
      ]
    },
    {
      "cell_type": "markdown",
      "metadata": {
        "id": "fYO-j_A55400"
      },
      "source": [
        "Нам не нужно столько знаков перед запятой, поэтому сократим их"
      ]
    },
    {
      "cell_type": "code",
      "execution_count": null,
      "metadata": {
        "id": "FMlsTrEb5rH7"
      },
      "outputs": [],
      "source": [
        "df['Amount_invested_monthly'] = df['Amount_invested_monthly'].round(4)"
      ]
    },
    {
      "cell_type": "code",
      "execution_count": null,
      "metadata": {
        "colab": {
          "base_uri": "https://localhost:8080/"
        },
        "id": "Q9_TgAeQmZ4F",
        "outputId": "aab938e5-4f07-4835-a94c-31fee471dfcf"
      },
      "outputs": [
        {
          "data": {
            "text/plain": [
              "Month                       0\n",
              "Age                         0\n",
              "SSN                         0\n",
              "Occupation                  0\n",
              "Annual_Income               0\n",
              "Monthly_Inhand_Salary       0\n",
              "Num_Bank_Accounts           0\n",
              "Num_Credit_Card             0\n",
              "Interest_Rate               0\n",
              "Num_of_Loan                 0\n",
              "Type_of_Loan                0\n",
              "Delay_from_due_date         0\n",
              "Num_of_Delayed_Payment      0\n",
              "Changed_Credit_Limit        0\n",
              "Num_Credit_Inquiries        0\n",
              "Credit_Mix                  0\n",
              "Outstanding_Debt            0\n",
              "Credit_Utilization_Ratio    0\n",
              "Credit_History_Age          0\n",
              "Payment_of_Min_Amount       0\n",
              "Total_EMI_per_month         0\n",
              "Amount_invested_monthly     0\n",
              "Payment_Behaviour           0\n",
              "Monthly_Balance             0\n",
              "Credit_Score                0\n",
              "dtype: int64"
            ]
          },
          "execution_count": 68,
          "metadata": {},
          "output_type": "execute_result"
        }
      ],
      "source": [
        "df.isna().sum()"
      ]
    },
    {
      "cell_type": "code",
      "execution_count": null,
      "metadata": {
        "colab": {
          "base_uri": "https://localhost:8080/"
        },
        "id": "_Ew2UgLn51dI",
        "outputId": "cacbfd17-c739-40bb-e964-dcce813e1490"
      },
      "outputs": [
        {
          "data": {
            "text/plain": [
              "Index(['Monthly_Inhand_Salary', 'Num_Bank_Accounts', 'Num_Credit_Card',\n",
              "       'Interest_Rate', 'Delay_from_due_date', 'Num_of_Delayed_Payment',\n",
              "       'Num_Credit_Inquiries', 'Credit_Utilization_Ratio',\n",
              "       'Credit_History_Age', 'Total_EMI_per_month', 'Amount_invested_monthly'],\n",
              "      dtype='object')"
            ]
          },
          "execution_count": 69,
          "metadata": {},
          "output_type": "execute_result"
        }
      ],
      "source": [
        "df.select_dtypes(include='number').columns"
      ]
    },
    {
      "cell_type": "code",
      "execution_count": null,
      "metadata": {
        "colab": {
          "base_uri": "https://localhost:8080/"
        },
        "id": "JXXzdyJ6RTeY",
        "outputId": "9340514e-79db-4bcb-ee90-25e53dd0b459"
      },
      "outputs": [
        {
          "data": {
            "text/plain": [
              "Index(['Month', 'Age', 'SSN', 'Occupation', 'Annual_Income', 'Num_of_Loan',\n",
              "       'Type_of_Loan', 'Changed_Credit_Limit', 'Credit_Mix',\n",
              "       'Outstanding_Debt', 'Payment_of_Min_Amount', 'Payment_Behaviour',\n",
              "       'Monthly_Balance', 'Credit_Score'],\n",
              "      dtype='object')"
            ]
          },
          "execution_count": 70,
          "metadata": {},
          "output_type": "execute_result"
        }
      ],
      "source": [
        "df.select_dtypes(exclude='number').columns"
      ]
    },
    {
      "cell_type": "code",
      "execution_count": null,
      "metadata": {
        "colab": {
          "base_uri": "https://localhost:8080/"
        },
        "id": "VcjDK03_w1vc",
        "outputId": "90870b53-58d5-4384-a802-76fa74d6e8a2"
      },
      "outputs": [
        {
          "data": {
            "text/plain": [
              "Credit_Score\n",
              "Standard    0.53174\n",
              "Poor        0.28998\n",
              "Good        0.17828\n",
              "Name: proportion, dtype: float64"
            ]
          },
          "execution_count": 71,
          "metadata": {},
          "output_type": "execute_result"
        }
      ],
      "source": [
        "class_balance = df['Credit_Score'].value_counts(normalize=True)\n",
        "class_balance"
      ]
    },
    {
      "cell_type": "markdown",
      "metadata": {
        "id": "VAbiIjohvMk4"
      },
      "source": [
        "# **Обучение** (base line)"
      ]
    },
    {
      "cell_type": "code",
      "execution_count": null,
      "metadata": {
        "colab": {
          "base_uri": "https://localhost:8080/",
          "height": 385
        },
        "id": "iJ2t962I0i0r",
        "outputId": "01c79419-c8b2-4fbf-b822-e74063f4e8af"
      },
      "outputs": [
        {
          "data": {
            "application/vnd.google.colaboratory.intrinsic+json": {
              "type": "dataframe"
            },
            "text/html": [
              "\n",
              "  <div id=\"df-e75eb019-43d8-47bf-a476-47e35b092446\" class=\"colab-df-container\">\n",
              "    <div>\n",
              "<style scoped>\n",
              "    .dataframe tbody tr th:only-of-type {\n",
              "        vertical-align: middle;\n",
              "    }\n",
              "\n",
              "    .dataframe tbody tr th {\n",
              "        vertical-align: top;\n",
              "    }\n",
              "\n",
              "    .dataframe thead th {\n",
              "        text-align: right;\n",
              "    }\n",
              "</style>\n",
              "<table border=\"1\" class=\"dataframe\">\n",
              "  <thead>\n",
              "    <tr style=\"text-align: right;\">\n",
              "      <th></th>\n",
              "      <th>Month</th>\n",
              "      <th>Age</th>\n",
              "      <th>SSN</th>\n",
              "      <th>Occupation</th>\n",
              "      <th>Annual_Income</th>\n",
              "      <th>Monthly_Inhand_Salary</th>\n",
              "      <th>Num_Bank_Accounts</th>\n",
              "      <th>Num_Credit_Card</th>\n",
              "      <th>Interest_Rate</th>\n",
              "      <th>Num_of_Loan</th>\n",
              "      <th>Type_of_Loan</th>\n",
              "      <th>Delay_from_due_date</th>\n",
              "      <th>Num_of_Delayed_Payment</th>\n",
              "      <th>Changed_Credit_Limit</th>\n",
              "      <th>Num_Credit_Inquiries</th>\n",
              "      <th>Credit_Mix</th>\n",
              "      <th>Outstanding_Debt</th>\n",
              "      <th>Credit_Utilization_Ratio</th>\n",
              "      <th>Credit_History_Age</th>\n",
              "      <th>Payment_of_Min_Amount</th>\n",
              "      <th>Total_EMI_per_month</th>\n",
              "      <th>Amount_invested_monthly</th>\n",
              "      <th>Payment_Behaviour</th>\n",
              "      <th>Monthly_Balance</th>\n",
              "      <th>Credit_Score</th>\n",
              "    </tr>\n",
              "  </thead>\n",
              "  <tbody>\n",
              "    <tr>\n",
              "      <th>17944</th>\n",
              "      <td>January</td>\n",
              "      <td>51</td>\n",
              "      <td>189-34-5628</td>\n",
              "      <td>Developer</td>\n",
              "      <td>19997.78</td>\n",
              "      <td>1409.481667</td>\n",
              "      <td>5</td>\n",
              "      <td>5</td>\n",
              "      <td>20</td>\n",
              "      <td>2</td>\n",
              "      <td>Not Specified, and Debt Consolidation Loan</td>\n",
              "      <td>28</td>\n",
              "      <td>13.0</td>\n",
              "      <td>4.87</td>\n",
              "      <td>2.0</td>\n",
              "      <td>_</td>\n",
              "      <td>427.06</td>\n",
              "      <td>35.899069</td>\n",
              "      <td>219.0</td>\n",
              "      <td>Yes</td>\n",
              "      <td>18.983797</td>\n",
              "      <td>10000.0000</td>\n",
              "      <td>Low_spent_Small_value_payments</td>\n",
              "      <td>267.7896783265147</td>\n",
              "      <td>Standard</td>\n",
              "    </tr>\n",
              "    <tr>\n",
              "      <th>71581</th>\n",
              "      <td>June</td>\n",
              "      <td>45</td>\n",
              "      <td>966-71-9349</td>\n",
              "      <td>Architect</td>\n",
              "      <td>44620.44</td>\n",
              "      <td>3496.370000</td>\n",
              "      <td>0</td>\n",
              "      <td>5</td>\n",
              "      <td>12</td>\n",
              "      <td>2</td>\n",
              "      <td>Not Specified, and Not Specified</td>\n",
              "      <td>7</td>\n",
              "      <td>11.0</td>\n",
              "      <td>4.57</td>\n",
              "      <td>5.0</td>\n",
              "      <td>Good</td>\n",
              "      <td>286.9</td>\n",
              "      <td>34.428175</td>\n",
              "      <td>318.0</td>\n",
              "      <td>No</td>\n",
              "      <td>50.788305</td>\n",
              "      <td>69.0098</td>\n",
              "      <td>!@9#%8</td>\n",
              "      <td>479.83893128350473</td>\n",
              "      <td>Good</td>\n",
              "    </tr>\n",
              "    <tr>\n",
              "      <th>31106</th>\n",
              "      <td>March</td>\n",
              "      <td>42</td>\n",
              "      <td>450-69-9081</td>\n",
              "      <td>Developer</td>\n",
              "      <td>71732.72</td>\n",
              "      <td>6020.726667</td>\n",
              "      <td>4</td>\n",
              "      <td>3</td>\n",
              "      <td>7</td>\n",
              "      <td>3</td>\n",
              "      <td>Not Specified, Personal Loan, and Student Loan</td>\n",
              "      <td>5</td>\n",
              "      <td>9.0</td>\n",
              "      <td>17.8</td>\n",
              "      <td>4.0</td>\n",
              "      <td>_</td>\n",
              "      <td>632.16</td>\n",
              "      <td>35.550992</td>\n",
              "      <td>78.0</td>\n",
              "      <td>Yes</td>\n",
              "      <td>129.933019</td>\n",
              "      <td>551.2986</td>\n",
              "      <td>Low_spent_Medium_value_payments</td>\n",
              "      <td>200.8410840930591</td>\n",
              "      <td>Standard</td>\n",
              "    </tr>\n",
              "    <tr>\n",
              "      <th>9116</th>\n",
              "      <td>May</td>\n",
              "      <td>37</td>\n",
              "      <td>728-13-8219</td>\n",
              "      <td>Lawyer</td>\n",
              "      <td>118111.08</td>\n",
              "      <td>10072.590000</td>\n",
              "      <td>2</td>\n",
              "      <td>6</td>\n",
              "      <td>7</td>\n",
              "      <td>3</td>\n",
              "      <td>Home Equity Loan, Auto Loan, and Not Specified</td>\n",
              "      <td>27</td>\n",
              "      <td>1.0</td>\n",
              "      <td>4.55</td>\n",
              "      <td>1.0</td>\n",
              "      <td>Good</td>\n",
              "      <td>390.11</td>\n",
              "      <td>28.232590</td>\n",
              "      <td>242.0</td>\n",
              "      <td>No</td>\n",
              "      <td>219.950458</td>\n",
              "      <td>92.8369</td>\n",
              "      <td>High_spent_Large_value_payments</td>\n",
              "      <td>934.4716239897143</td>\n",
              "      <td>Poor</td>\n",
              "    </tr>\n",
              "  </tbody>\n",
              "</table>\n",
              "</div>\n",
              "    <div class=\"colab-df-buttons\">\n",
              "\n",
              "  <div class=\"colab-df-container\">\n",
              "    <button class=\"colab-df-convert\" onclick=\"convertToInteractive('df-e75eb019-43d8-47bf-a476-47e35b092446')\"\n",
              "            title=\"Convert this dataframe to an interactive table.\"\n",
              "            style=\"display:none;\">\n",
              "\n",
              "  <svg xmlns=\"http://www.w3.org/2000/svg\" height=\"24px\" viewBox=\"0 -960 960 960\">\n",
              "    <path d=\"M120-120v-720h720v720H120Zm60-500h600v-160H180v160Zm220 220h160v-160H400v160Zm0 220h160v-160H400v160ZM180-400h160v-160H180v160Zm440 0h160v-160H620v160ZM180-180h160v-160H180v160Zm440 0h160v-160H620v160Z\"/>\n",
              "  </svg>\n",
              "    </button>\n",
              "\n",
              "  <style>\n",
              "    .colab-df-container {\n",
              "      display:flex;\n",
              "      gap: 12px;\n",
              "    }\n",
              "\n",
              "    .colab-df-convert {\n",
              "      background-color: #E8F0FE;\n",
              "      border: none;\n",
              "      border-radius: 50%;\n",
              "      cursor: pointer;\n",
              "      display: none;\n",
              "      fill: #1967D2;\n",
              "      height: 32px;\n",
              "      padding: 0 0 0 0;\n",
              "      width: 32px;\n",
              "    }\n",
              "\n",
              "    .colab-df-convert:hover {\n",
              "      background-color: #E2EBFA;\n",
              "      box-shadow: 0px 1px 2px rgba(60, 64, 67, 0.3), 0px 1px 3px 1px rgba(60, 64, 67, 0.15);\n",
              "      fill: #174EA6;\n",
              "    }\n",
              "\n",
              "    .colab-df-buttons div {\n",
              "      margin-bottom: 4px;\n",
              "    }\n",
              "\n",
              "    [theme=dark] .colab-df-convert {\n",
              "      background-color: #3B4455;\n",
              "      fill: #D2E3FC;\n",
              "    }\n",
              "\n",
              "    [theme=dark] .colab-df-convert:hover {\n",
              "      background-color: #434B5C;\n",
              "      box-shadow: 0px 1px 3px 1px rgba(0, 0, 0, 0.15);\n",
              "      filter: drop-shadow(0px 1px 2px rgba(0, 0, 0, 0.3));\n",
              "      fill: #FFFFFF;\n",
              "    }\n",
              "  </style>\n",
              "\n",
              "    <script>\n",
              "      const buttonEl =\n",
              "        document.querySelector('#df-e75eb019-43d8-47bf-a476-47e35b092446 button.colab-df-convert');\n",
              "      buttonEl.style.display =\n",
              "        google.colab.kernel.accessAllowed ? 'block' : 'none';\n",
              "\n",
              "      async function convertToInteractive(key) {\n",
              "        const element = document.querySelector('#df-e75eb019-43d8-47bf-a476-47e35b092446');\n",
              "        const dataTable =\n",
              "          await google.colab.kernel.invokeFunction('convertToInteractive',\n",
              "                                                    [key], {});\n",
              "        if (!dataTable) return;\n",
              "\n",
              "        const docLinkHtml = 'Like what you see? Visit the ' +\n",
              "          '<a target=\"_blank\" href=https://colab.research.google.com/notebooks/data_table.ipynb>data table notebook</a>'\n",
              "          + ' to learn more about interactive tables.';\n",
              "        element.innerHTML = '';\n",
              "        dataTable['output_type'] = 'display_data';\n",
              "        await google.colab.output.renderOutput(dataTable, element);\n",
              "        const docLink = document.createElement('div');\n",
              "        docLink.innerHTML = docLinkHtml;\n",
              "        element.appendChild(docLink);\n",
              "      }\n",
              "    </script>\n",
              "  </div>\n",
              "\n",
              "\n",
              "<div id=\"df-d507022c-cd42-42c5-9e56-4eb37342a576\">\n",
              "  <button class=\"colab-df-quickchart\" onclick=\"quickchart('df-d507022c-cd42-42c5-9e56-4eb37342a576')\"\n",
              "            title=\"Suggest charts\"\n",
              "            style=\"display:none;\">\n",
              "\n",
              "<svg xmlns=\"http://www.w3.org/2000/svg\" height=\"24px\"viewBox=\"0 0 24 24\"\n",
              "     width=\"24px\">\n",
              "    <g>\n",
              "        <path d=\"M19 3H5c-1.1 0-2 .9-2 2v14c0 1.1.9 2 2 2h14c1.1 0 2-.9 2-2V5c0-1.1-.9-2-2-2zM9 17H7v-7h2v7zm4 0h-2V7h2v10zm4 0h-2v-4h2v4z\"/>\n",
              "    </g>\n",
              "</svg>\n",
              "  </button>\n",
              "\n",
              "<style>\n",
              "  .colab-df-quickchart {\n",
              "      --bg-color: #E8F0FE;\n",
              "      --fill-color: #1967D2;\n",
              "      --hover-bg-color: #E2EBFA;\n",
              "      --hover-fill-color: #174EA6;\n",
              "      --disabled-fill-color: #AAA;\n",
              "      --disabled-bg-color: #DDD;\n",
              "  }\n",
              "\n",
              "  [theme=dark] .colab-df-quickchart {\n",
              "      --bg-color: #3B4455;\n",
              "      --fill-color: #D2E3FC;\n",
              "      --hover-bg-color: #434B5C;\n",
              "      --hover-fill-color: #FFFFFF;\n",
              "      --disabled-bg-color: #3B4455;\n",
              "      --disabled-fill-color: #666;\n",
              "  }\n",
              "\n",
              "  .colab-df-quickchart {\n",
              "    background-color: var(--bg-color);\n",
              "    border: none;\n",
              "    border-radius: 50%;\n",
              "    cursor: pointer;\n",
              "    display: none;\n",
              "    fill: var(--fill-color);\n",
              "    height: 32px;\n",
              "    padding: 0;\n",
              "    width: 32px;\n",
              "  }\n",
              "\n",
              "  .colab-df-quickchart:hover {\n",
              "    background-color: var(--hover-bg-color);\n",
              "    box-shadow: 0 1px 2px rgba(60, 64, 67, 0.3), 0 1px 3px 1px rgba(60, 64, 67, 0.15);\n",
              "    fill: var(--button-hover-fill-color);\n",
              "  }\n",
              "\n",
              "  .colab-df-quickchart-complete:disabled,\n",
              "  .colab-df-quickchart-complete:disabled:hover {\n",
              "    background-color: var(--disabled-bg-color);\n",
              "    fill: var(--disabled-fill-color);\n",
              "    box-shadow: none;\n",
              "  }\n",
              "\n",
              "  .colab-df-spinner {\n",
              "    border: 2px solid var(--fill-color);\n",
              "    border-color: transparent;\n",
              "    border-bottom-color: var(--fill-color);\n",
              "    animation:\n",
              "      spin 1s steps(1) infinite;\n",
              "  }\n",
              "\n",
              "  @keyframes spin {\n",
              "    0% {\n",
              "      border-color: transparent;\n",
              "      border-bottom-color: var(--fill-color);\n",
              "      border-left-color: var(--fill-color);\n",
              "    }\n",
              "    20% {\n",
              "      border-color: transparent;\n",
              "      border-left-color: var(--fill-color);\n",
              "      border-top-color: var(--fill-color);\n",
              "    }\n",
              "    30% {\n",
              "      border-color: transparent;\n",
              "      border-left-color: var(--fill-color);\n",
              "      border-top-color: var(--fill-color);\n",
              "      border-right-color: var(--fill-color);\n",
              "    }\n",
              "    40% {\n",
              "      border-color: transparent;\n",
              "      border-right-color: var(--fill-color);\n",
              "      border-top-color: var(--fill-color);\n",
              "    }\n",
              "    60% {\n",
              "      border-color: transparent;\n",
              "      border-right-color: var(--fill-color);\n",
              "    }\n",
              "    80% {\n",
              "      border-color: transparent;\n",
              "      border-right-color: var(--fill-color);\n",
              "      border-bottom-color: var(--fill-color);\n",
              "    }\n",
              "    90% {\n",
              "      border-color: transparent;\n",
              "      border-bottom-color: var(--fill-color);\n",
              "    }\n",
              "  }\n",
              "</style>\n",
              "\n",
              "  <script>\n",
              "    async function quickchart(key) {\n",
              "      const quickchartButtonEl =\n",
              "        document.querySelector('#' + key + ' button');\n",
              "      quickchartButtonEl.disabled = true;  // To prevent multiple clicks.\n",
              "      quickchartButtonEl.classList.add('colab-df-spinner');\n",
              "      try {\n",
              "        const charts = await google.colab.kernel.invokeFunction(\n",
              "            'suggestCharts', [key], {});\n",
              "      } catch (error) {\n",
              "        console.error('Error during call to suggestCharts:', error);\n",
              "      }\n",
              "      quickchartButtonEl.classList.remove('colab-df-spinner');\n",
              "      quickchartButtonEl.classList.add('colab-df-quickchart-complete');\n",
              "    }\n",
              "    (() => {\n",
              "      let quickchartButtonEl =\n",
              "        document.querySelector('#df-d507022c-cd42-42c5-9e56-4eb37342a576 button');\n",
              "      quickchartButtonEl.style.display =\n",
              "        google.colab.kernel.accessAllowed ? 'block' : 'none';\n",
              "    })();\n",
              "  </script>\n",
              "</div>\n",
              "    </div>\n",
              "  </div>\n"
            ],
            "text/plain": [
              "         Month Age          SSN Occupation Annual_Income  Monthly_Inhand_Salary  Num_Bank_Accounts  Num_Credit_Card  Interest_Rate Num_of_Loan                                    Type_of_Loan  Delay_from_due_date  Num_of_Delayed_Payment Changed_Credit_Limit  Num_Credit_Inquiries Credit_Mix Outstanding_Debt  Credit_Utilization_Ratio  Credit_History_Age Payment_of_Min_Amount  Total_EMI_per_month  Amount_invested_monthly                Payment_Behaviour     Monthly_Balance Credit_Score\n",
              "17944  January  51  189-34-5628  Developer      19997.78            1409.481667                  5                5             20           2      Not Specified, and Debt Consolidation Loan                   28                    13.0                 4.87                   2.0          _           427.06                 35.899069               219.0                   Yes            18.983797               10000.0000   Low_spent_Small_value_payments   267.7896783265147     Standard\n",
              "71581     June  45  966-71-9349  Architect      44620.44            3496.370000                  0                5             12           2                Not Specified, and Not Specified                    7                    11.0                 4.57                   5.0       Good            286.9                 34.428175               318.0                    No            50.788305                  69.0098                           !@9#%8  479.83893128350473         Good\n",
              "31106    March  42  450-69-9081  Developer      71732.72            6020.726667                  4                3              7           3  Not Specified, Personal Loan, and Student Loan                    5                     9.0                 17.8                   4.0          _           632.16                 35.550992                78.0                   Yes           129.933019                 551.2986  Low_spent_Medium_value_payments   200.8410840930591     Standard\n",
              "9116       May  37  728-13-8219     Lawyer     118111.08           10072.590000                  2                6              7           3  Home Equity Loan, Auto Loan, and Not Specified                   27                     1.0                 4.55                   1.0       Good           390.11                 28.232590               242.0                    No           219.950458                  92.8369  High_spent_Large_value_payments   934.4716239897143         Poor"
            ]
          },
          "execution_count": 72,
          "metadata": {},
          "output_type": "execute_result"
        }
      ],
      "source": [
        "df.sample(4)"
      ]
    },
    {
      "cell_type": "code",
      "execution_count": null,
      "metadata": {
        "id": "xW2jO1Hm51Tg"
      },
      "outputs": [],
      "source": [
        "train, val = train_test_split(df,train_size=0.8,random_state=42)"
      ]
    },
    {
      "cell_type": "code",
      "execution_count": null,
      "metadata": {
        "id": "EcBUBcX851Jg"
      },
      "outputs": [],
      "source": [
        "X = df.columns.drop('Credit_Score').tolist()\n",
        "\n",
        "cat_features = df.select_dtypes(exclude='number').columns.drop('Credit_Score').tolist()\n",
        "\n",
        "y = 'Credit_Score'"
      ]
    },
    {
      "cell_type": "code",
      "execution_count": null,
      "metadata": {
        "id": "_-wXvIRMRpRh"
      },
      "outputs": [],
      "source": [
        "X_train = train[X]\n",
        "y_train = train[y]\n",
        "X_val = val[X]\n",
        "y_val = val[y]"
      ]
    },
    {
      "cell_type": "code",
      "execution_count": null,
      "metadata": {
        "id": "JfCoYQIHUgkR"
      },
      "outputs": [],
      "source": [
        "train_pool = Pool(data=X_train, label=y_train,\n",
        "                  cat_features=cat_features)\n",
        "\n",
        "val_pool = Pool(data=X_val, label=y_val,\n",
        "                cat_features=cat_features)"
      ]
    },
    {
      "cell_type": "code",
      "execution_count": null,
      "metadata": {
        "colab": {
          "base_uri": "https://localhost:8080/"
        },
        "id": "Ifs2-b8ZUf9m",
        "outputId": "357a99f4-043f-4b25-b0de-40c611068259"
      },
      "outputs": [
        {
          "name": "stdout",
          "output_type": "stream",
          "text": [
            "0:\tlearn: 0.7806763\ttest: 0.8361420\tbest: 0.8361420 (0)\ttotal: 832ms\tremaining: 13m 50s\n",
            "100:\tlearn: 0.8099758\ttest: 0.8573660\tbest: 0.8580610 (80)\ttotal: 1m 9s\tremaining: 10m 18s\n",
            "200:\tlearn: 0.8135862\ttest: 0.8616212\tbest: 0.8617152 (199)\ttotal: 2m 36s\tremaining: 10m 23s\n",
            "300:\tlearn: 0.8170116\ttest: 0.8657923\tbest: 0.8657966 (296)\ttotal: 4m 17s\tremaining: 9m 57s\n",
            "400:\tlearn: 0.8201905\ttest: 0.8687393\tbest: 0.8687393 (400)\ttotal: 6m 5s\tremaining: 9m 6s\n",
            "500:\tlearn: 0.8219100\ttest: 0.8713293\tbest: 0.8713656 (499)\ttotal: 7m 58s\tremaining: 7m 56s\n",
            "600:\tlearn: 0.8233489\ttest: 0.8728633\tbest: 0.8728633 (598)\ttotal: 9m 47s\tremaining: 6m 30s\n",
            "700:\tlearn: 0.8246837\ttest: 0.8736752\tbest: 0.8738311 (695)\ttotal: 11m 46s\tremaining: 5m 1s\n",
            "800:\tlearn: 0.8255840\ttest: 0.8743560\tbest: 0.8743560 (800)\ttotal: 13m 31s\tremaining: 3m 21s\n",
            "900:\tlearn: 0.8263084\ttest: 0.8749856\tbest: 0.8750881 (873)\ttotal: 15m 16s\tremaining: 1m 40s\n",
            "Stopped by overfitting detector  (50 iterations wait)\n",
            "\n",
            "bestTest = 0.8756008899\n",
            "bestIteration = 930\n",
            "\n",
            "Shrink model to first 931 iterations.\n"
          ]
        },
        {
          "data": {
            "text/plain": [
              "<catboost.core.CatBoostClassifier at 0x7ed630c6abf0>"
            ]
          },
          "execution_count": 77,
          "metadata": {},
          "output_type": "execute_result"
        }
      ],
      "source": [
        "model = CatBoostClassifier(\n",
        "                            iterations=1000,\n",
        "                            learning_rate=0.01,\n",
        "                            depth=6,\n",
        "                            eval_metric='Accuracy',\n",
        "                            random_seed=42,\n",
        "                            # task_type='GPU',\n",
        "                            early_stopping_rounds=50,\n",
        "                            auto_class_weights='Balanced',\n",
        "                            verbose=100\n",
        ")\n",
        "model.fit(train_pool, eval_set=val_pool, verbose=100)"
      ]
    },
    {
      "cell_type": "code",
      "execution_count": null,
      "metadata": {
        "colab": {
          "base_uri": "https://localhost:8080/"
        },
        "id": "XRWxYfo6uCvE",
        "outputId": "223ce2a7-385b-4e24-a13f-a8f54e1fbad6"
      },
      "outputs": [
        {
          "name": "stdout",
          "output_type": "stream",
          "text": [
            "              precision    recall  f1-score   support\n",
            "\n",
            "        Good       0.72      0.96      0.82      3527\n",
            "        Poor       0.76      0.96      0.85      5874\n",
            "    Standard       0.95      0.71      0.81     10599\n",
            "\n",
            "    accuracy                           0.82     20000\n",
            "   macro avg       0.81      0.88      0.83     20000\n",
            "weighted avg       0.85      0.82      0.82     20000\n",
            "\n"
          ]
        }
      ],
      "source": [
        "y_pred_val = model.predict(X_val)\n",
        "\n",
        "print(classification_report(y_val, y_pred_val))"
      ]
    },
    {
      "cell_type": "markdown",
      "metadata": {
        "id": "K_QYTNAdxrHo"
      },
      "source": [
        "Также построим ROC-AUC (\"один против всех\")"
      ]
    },
    {
      "cell_type": "code",
      "execution_count": null,
      "metadata": {
        "colab": {
          "base_uri": "https://localhost:8080/",
          "height": 472
        },
        "id": "1S6ponpDxqjU",
        "outputId": "072200d5-3ab2-4dfb-cc37-5cdb4a989e9a"
      },
      "outputs": [
        {
          "data": {
            "image/png": "[encoded data removed]",
            "text/plain": [
              "<Figure size 640x480 with 1 Axes>"
            ]
          },
          "metadata": {},
          "output_type": "display_data"
        }
      ],
      "source": [
        "y_val_binarized = label_binarize(y_val, classes=np.unique(y_val))\n",
        "n_classes = y_val_binarized.shape[1]\n",
        "\n",
        "y_score_val = model.predict_proba(X_val)\n",
        "\n",
        "fpr = dict()\n",
        "tpr = dict()\n",
        "roc_auc = dict()\n",
        "\n",
        "for i in range(n_classes):\n",
        "    fpr[i], tpr[i], _ = roc_curve(y_val_binarized[:, i], y_score_val[:, i])\n",
        "    roc_auc[i] = auc(fpr[i], tpr[i])\n",
        "\n",
        "colors = ['blue', 'red', 'green', 'purple', 'orange']\n",
        "for i, color in zip(range(n_classes), colors):\n",
        "    plt.plot(fpr[i], tpr[i], color=color, lw=2,\n",
        "             label='ROC curve of class {0} (area = {1:0.2f})'\n",
        "             ''.format(i, roc_auc[i]))\n",
        "\n",
        "plt.plot([0, 1], [0, 1], 'k--', lw=2)\n",
        "plt.xlim([0.0, 1.0])\n",
        "plt.ylim([0.0, 1.05])\n",
        "plt.xlabel('FPR')\n",
        "plt.ylabel('TPR')\n",
        "plt.title('Some extension of Receiver operating characteristic to multi-class')\n",
        "plt.legend(loc=\"lower right\")\n",
        "plt.show()"
      ]
    },
    {
      "cell_type": "markdown",
      "metadata": {
        "id": "tzsa8_JNHb26"
      },
      "source": [
        "# **Повышаем Score**"
      ]
    },
    {
      "cell_type": "markdown",
      "metadata": {
        "id": "ffxtG22sHgbK"
      },
      "source": [
        "* Поиск trash фич\n",
        "* Тюнинг модели"
      ]
    },
    {
      "cell_type": "code",
      "execution_count": null,
      "metadata": {
        "colab": {
          "base_uri": "https://localhost:8080/",
          "height": 833
        },
        "id": "EOKNW1Ma5r8e",
        "outputId": "30826be9-8fed-4650-f846-c5cf66dce580"
      },
      "outputs": [
        {
          "data": {
            "text/html": [
              "<style type=\"text/css\">\n",
              "#T_20bbb_row0_col1 {\n",
              "  background-color: #0000ff;\n",
              "  color: #f1f1f1;\n",
              "}\n",
              "#T_20bbb_row1_col1 {\n",
              "  background-color: #1c1c61;\n",
              "  color: #f1f1f1;\n",
              "}\n",
              "#T_20bbb_row2_col1 {\n",
              "  background-color: #1d1d5c;\n",
              "  color: #f1f1f1;\n",
              "}\n",
              "#T_20bbb_row3_col1 {\n",
              "  background-color: #1f1f52;\n",
              "  color: #f1f1f1;\n",
              "}\n",
              "#T_20bbb_row4_col1 {\n",
              "  background-color: #20204d;\n",
              "  color: #f1f1f1;\n",
              "}\n",
              "#T_20bbb_row5_col1 {\n",
              "  background-color: #212148;\n",
              "  color: #f1f1f1;\n",
              "}\n",
              "#T_20bbb_row6_col1 {\n",
              "  background-color: #222242;\n",
              "  color: #f1f1f1;\n",
              "}\n",
              "#T_20bbb_row7_col1 {\n",
              "  background-color: #222240;\n",
              "  color: #f1f1f1;\n",
              "}\n",
              "#T_20bbb_row8_col1 {\n",
              "  background-color: #22223e;\n",
              "  color: #f1f1f1;\n",
              "}\n",
              "#T_20bbb_row9_col1 {\n",
              "  background-color: #23233b;\n",
              "  color: #f1f1f1;\n",
              "}\n",
              "#T_20bbb_row10_col1 {\n",
              "  background-color: #23233a;\n",
              "  color: #f1f1f1;\n",
              "}\n",
              "#T_20bbb_row11_col1 {\n",
              "  background-color: #232339;\n",
              "  color: #f1f1f1;\n",
              "}\n",
              "#T_20bbb_row12_col1 {\n",
              "  background-color: #232338;\n",
              "  color: #f1f1f1;\n",
              "}\n",
              "#T_20bbb_row13_col1, #T_20bbb_row14_col1 {\n",
              "  background-color: #242438;\n",
              "  color: #f1f1f1;\n",
              "}\n",
              "#T_20bbb_row15_col1 {\n",
              "  background-color: #242437;\n",
              "  color: #f1f1f1;\n",
              "}\n",
              "#T_20bbb_row16_col1, #T_20bbb_row17_col1 {\n",
              "  background-color: #242436;\n",
              "  color: #f1f1f1;\n",
              "}\n",
              "#T_20bbb_row18_col1, #T_20bbb_row19_col1 {\n",
              "  background-color: #242434;\n",
              "  color: #f1f1f1;\n",
              "}\n",
              "#T_20bbb_row20_col1, #T_20bbb_row21_col1, #T_20bbb_row22_col1, #T_20bbb_row23_col1, #T_20bbb_row24_col1 {\n",
              "  background-color: #242433;\n",
              "  color: #f1f1f1;\n",
              "}\n",
              "</style>\n",
              "<table id=\"T_20bbb\" class=\"dataframe\">\n",
              "  <thead>\n",
              "    <tr>\n",
              "      <th class=\"blank level0\" >&nbsp;</th>\n",
              "      <th id=\"T_20bbb_level0_col0\" class=\"col_heading level0 col0\" >Feature</th>\n",
              "      <th id=\"T_20bbb_level0_col1\" class=\"col_heading level0 col1\" >Importance</th>\n",
              "    </tr>\n",
              "  </thead>\n",
              "  <tbody>\n",
              "    <tr>\n",
              "      <th id=\"T_20bbb_level0_row0\" class=\"row_heading level0 row0\" >0</th>\n",
              "      <td id=\"T_20bbb_row0_col0\" class=\"data row0 col0\" >Outstanding_Debt</td>\n",
              "      <td id=\"T_20bbb_row0_col1\" class=\"data row0 col1\" >43.625524</td>\n",
              "    </tr>\n",
              "    <tr>\n",
              "      <th id=\"T_20bbb_level0_row1\" class=\"row_heading level0 row1\" >1</th>\n",
              "      <td id=\"T_20bbb_row1_col0\" class=\"data row1 col0\" >SSN</td>\n",
              "      <td id=\"T_20bbb_row1_col1\" class=\"data row1 col1\" >9.927148</td>\n",
              "    </tr>\n",
              "    <tr>\n",
              "      <th id=\"T_20bbb_level0_row2\" class=\"row_heading level0 row2\" >2</th>\n",
              "      <td id=\"T_20bbb_row2_col0\" class=\"data row2 col0\" >Annual_Income</td>\n",
              "      <td id=\"T_20bbb_row2_col1\" class=\"data row2 col1\" >8.850020</td>\n",
              "    </tr>\n",
              "    <tr>\n",
              "      <th id=\"T_20bbb_level0_row3\" class=\"row_heading level0 row3\" >3</th>\n",
              "      <td id=\"T_20bbb_row3_col0\" class=\"data row3 col0\" >Credit_Mix</td>\n",
              "      <td id=\"T_20bbb_row3_col1\" class=\"data row3 col1\" >6.755667</td>\n",
              "    </tr>\n",
              "    <tr>\n",
              "      <th id=\"T_20bbb_level0_row4\" class=\"row_heading level0 row4\" >4</th>\n",
              "      <td id=\"T_20bbb_row4_col0\" class=\"data row4 col0\" >Month</td>\n",
              "      <td id=\"T_20bbb_row4_col1\" class=\"data row4 col1\" >5.640419</td>\n",
              "    </tr>\n",
              "    <tr>\n",
              "      <th id=\"T_20bbb_level0_row5\" class=\"row_heading level0 row5\" >5</th>\n",
              "      <td id=\"T_20bbb_row5_col0\" class=\"data row5 col0\" >Interest_Rate</td>\n",
              "      <td id=\"T_20bbb_row5_col1\" class=\"data row5 col1\" >4.450541</td>\n",
              "    </tr>\n",
              "    <tr>\n",
              "      <th id=\"T_20bbb_level0_row6\" class=\"row_heading level0 row6\" >6</th>\n",
              "      <td id=\"T_20bbb_row6_col0\" class=\"data row6 col0\" >Payment_of_Min_Amount</td>\n",
              "      <td id=\"T_20bbb_row6_col1\" class=\"data row6 col1\" >3.414652</td>\n",
              "    </tr>\n",
              "    <tr>\n",
              "      <th id=\"T_20bbb_level0_row7\" class=\"row_heading level0 row7\" >7</th>\n",
              "      <td id=\"T_20bbb_row7_col0\" class=\"data row7 col0\" >Type_of_Loan</td>\n",
              "      <td id=\"T_20bbb_row7_col1\" class=\"data row7 col1\" >2.767753</td>\n",
              "    </tr>\n",
              "    <tr>\n",
              "      <th id=\"T_20bbb_level0_row8\" class=\"row_heading level0 row8\" >8</th>\n",
              "      <td id=\"T_20bbb_row8_col0\" class=\"data row8 col0\" >Payment_Behaviour</td>\n",
              "      <td id=\"T_20bbb_row8_col1\" class=\"data row8 col1\" >2.442248</td>\n",
              "    </tr>\n",
              "    <tr>\n",
              "      <th id=\"T_20bbb_level0_row9\" class=\"row_heading level0 row9\" >9</th>\n",
              "      <td id=\"T_20bbb_row9_col0\" class=\"data row9 col0\" >Delay_from_due_date</td>\n",
              "      <td id=\"T_20bbb_row9_col1\" class=\"data row9 col1\" >1.788282</td>\n",
              "    </tr>\n",
              "    <tr>\n",
              "      <th id=\"T_20bbb_level0_row10\" class=\"row_heading level0 row10\" >10</th>\n",
              "      <td id=\"T_20bbb_row10_col0\" class=\"data row10 col0\" >Num_Credit_Inquiries</td>\n",
              "      <td id=\"T_20bbb_row10_col1\" class=\"data row10 col1\" >1.709641</td>\n",
              "    </tr>\n",
              "    <tr>\n",
              "      <th id=\"T_20bbb_level0_row11\" class=\"row_heading level0 row11\" >11</th>\n",
              "      <td id=\"T_20bbb_row11_col0\" class=\"data row11 col0\" >Num_Credit_Card</td>\n",
              "      <td id=\"T_20bbb_row11_col1\" class=\"data row11 col1\" >1.510760</td>\n",
              "    </tr>\n",
              "    <tr>\n",
              "      <th id=\"T_20bbb_level0_row12\" class=\"row_heading level0 row12\" >12</th>\n",
              "      <td id=\"T_20bbb_row12_col0\" class=\"data row12 col0\" >Amount_invested_monthly</td>\n",
              "      <td id=\"T_20bbb_row12_col1\" class=\"data row12 col1\" >1.270068</td>\n",
              "    </tr>\n",
              "    <tr>\n",
              "      <th id=\"T_20bbb_level0_row13\" class=\"row_heading level0 row13\" >13</th>\n",
              "      <td id=\"T_20bbb_row13_col0\" class=\"data row13 col0\" >Total_EMI_per_month</td>\n",
              "      <td id=\"T_20bbb_row13_col1\" class=\"data row13 col1\" >1.157445</td>\n",
              "    </tr>\n",
              "    <tr>\n",
              "      <th id=\"T_20bbb_level0_row14\" class=\"row_heading level0 row14\" >14</th>\n",
              "      <td id=\"T_20bbb_row14_col0\" class=\"data row14 col0\" >Num_of_Loan</td>\n",
              "      <td id=\"T_20bbb_row14_col1\" class=\"data row14 col1\" >1.139988</td>\n",
              "    </tr>\n",
              "    <tr>\n",
              "      <th id=\"T_20bbb_level0_row15\" class=\"row_heading level0 row15\" >15</th>\n",
              "      <td id=\"T_20bbb_row15_col0\" class=\"data row15 col0\" >Credit_History_Age</td>\n",
              "      <td id=\"T_20bbb_row15_col1\" class=\"data row15 col1\" >0.996456</td>\n",
              "    </tr>\n",
              "    <tr>\n",
              "      <th id=\"T_20bbb_level0_row16\" class=\"row_heading level0 row16\" >16</th>\n",
              "      <td id=\"T_20bbb_row16_col0\" class=\"data row16 col0\" >Age</td>\n",
              "      <td id=\"T_20bbb_row16_col1\" class=\"data row16 col1\" >0.842060</td>\n",
              "    </tr>\n",
              "    <tr>\n",
              "      <th id=\"T_20bbb_level0_row17\" class=\"row_heading level0 row17\" >17</th>\n",
              "      <td id=\"T_20bbb_row17_col0\" class=\"data row17 col0\" >Monthly_Inhand_Salary</td>\n",
              "      <td id=\"T_20bbb_row17_col1\" class=\"data row17 col1\" >0.746967</td>\n",
              "    </tr>\n",
              "    <tr>\n",
              "      <th id=\"T_20bbb_level0_row18\" class=\"row_heading level0 row18\" >18</th>\n",
              "      <td id=\"T_20bbb_row18_col0\" class=\"data row18 col0\" >Changed_Credit_Limit</td>\n",
              "      <td id=\"T_20bbb_row18_col1\" class=\"data row18 col1\" >0.489119</td>\n",
              "    </tr>\n",
              "    <tr>\n",
              "      <th id=\"T_20bbb_level0_row19\" class=\"row_heading level0 row19\" >19</th>\n",
              "      <td id=\"T_20bbb_row19_col0\" class=\"data row19 col0\" >Random</td>\n",
              "      <td id=\"T_20bbb_row19_col1\" class=\"data row19 col1\" >0.317846</td>\n",
              "    </tr>\n",
              "    <tr>\n",
              "      <th id=\"T_20bbb_level0_row20\" class=\"row_heading level0 row20\" >20</th>\n",
              "      <td id=\"T_20bbb_row20_col0\" class=\"data row20 col0\" >Occupation</td>\n",
              "      <td id=\"T_20bbb_row20_col1\" class=\"data row20 col1\" >0.183966</td>\n",
              "    </tr>\n",
              "    <tr>\n",
              "      <th id=\"T_20bbb_level0_row21\" class=\"row_heading level0 row21\" >21</th>\n",
              "      <td id=\"T_20bbb_row21_col0\" class=\"data row21 col0\" >Num_Bank_Accounts</td>\n",
              "      <td id=\"T_20bbb_row21_col1\" class=\"data row21 col1\" >0.167558</td>\n",
              "    </tr>\n",
              "    <tr>\n",
              "      <th id=\"T_20bbb_level0_row22\" class=\"row_heading level0 row22\" >22</th>\n",
              "      <td id=\"T_20bbb_row22_col0\" class=\"data row22 col0\" >Num_of_Delayed_Payment</td>\n",
              "      <td id=\"T_20bbb_row22_col1\" class=\"data row22 col1\" >0.067925</td>\n",
              "    </tr>\n",
              "    <tr>\n",
              "      <th id=\"T_20bbb_level0_row23\" class=\"row_heading level0 row23\" >23</th>\n",
              "      <td id=\"T_20bbb_row23_col0\" class=\"data row23 col0\" >Monthly_Balance</td>\n",
              "      <td id=\"T_20bbb_row23_col1\" class=\"data row23 col1\" >0.040947</td>\n",
              "    </tr>\n",
              "    <tr>\n",
              "      <th id=\"T_20bbb_level0_row24\" class=\"row_heading level0 row24\" >24</th>\n",
              "      <td id=\"T_20bbb_row24_col0\" class=\"data row24 col0\" >Credit_Utilization_Ratio</td>\n",
              "      <td id=\"T_20bbb_row24_col1\" class=\"data row24 col1\" >0.014846</td>\n",
              "    </tr>\n",
              "  </tbody>\n",
              "</table>\n"
            ],
            "text/plain": [
              "<pandas.io.formats.style.Styler at 0x7ed63132f9a0>"
            ]
          },
          "execution_count": 80,
          "metadata": {},
          "output_type": "execute_result"
        }
      ],
      "source": [
        "feature_importances = model.feature_importances_\n",
        "\n",
        "feature_importance_df = pd.DataFrame({'Feature': X_train.columns, 'Importance': feature_importances})\n",
        "\n",
        "random_importance = np.random.rand()\n",
        "df_random = pd.DataFrame({'Feature': ['Random'], 'Importance': [random_importance]})\n",
        "\n",
        "feature_importance_df = pd.concat([feature_importance_df, df_random])\n",
        "\n",
        "feature_importance_df = feature_importance_df.sort_values(by='Importance', ascending=False).reset_index(drop=True)\n",
        "\n",
        "cm = sns.dark_palette(\"blue\", as_cmap=True)\n",
        "styled_feature_importance_df = feature_importance_df.style.background_gradient(cmap=cm, subset='Importance')\n",
        "styled_feature_importance_df"
      ]
    },
    {
      "cell_type": "code",
      "execution_count": null,
      "metadata": {
        "id": "QD-rUMFLnfYp"
      },
      "outputs": [],
      "source": [
        "df = df.drop(['Age','Changed_Credit_Limit','Occupation',\n",
        "              'Num_Bank_Accounts','Num_of_Delayed_Payment',\n",
        "              'Monthly_Balance','Credit_Utilization_Ratio'], axis = 1)"
      ]
    },
    {
      "cell_type": "code",
      "execution_count": null,
      "metadata": {
        "id": "UDIH23V3WHEA"
      },
      "outputs": [],
      "source": [
        "train_cleared, val_cleared = train_test_split(df,train_size=0.8,random_state=42)"
      ]
    },
    {
      "cell_type": "code",
      "execution_count": null,
      "metadata": {
        "id": "RgbTyentVUGG"
      },
      "outputs": [],
      "source": [
        "X_cleared = df.columns.drop('Credit_Score').tolist()\n",
        "\n",
        "cat_features = df.select_dtypes(include=['object', 'category']).columns.tolist()\n",
        "\n",
        "y_cleared = 'Credit_Score'"
      ]
    },
    {
      "cell_type": "code",
      "execution_count": null,
      "metadata": {
        "id": "pjyqUHrngGbQ"
      },
      "outputs": [],
      "source": [
        "if 'Credit_Score' in cat_features:\n",
        "    cat_features.remove('Credit_Score')"
      ]
    },
    {
      "cell_type": "code",
      "execution_count": null,
      "metadata": {
        "id": "P5xZLxptVUGG"
      },
      "outputs": [],
      "source": [
        "X_cleared_train = train_cleared[X_cleared]\n",
        "y_cleared_train = train_cleared[y_cleared]\n",
        "X_cleared_val = val_cleared[X_cleared]\n",
        "y_cleared_val = val_cleared[y_cleared]"
      ]
    },
    {
      "cell_type": "code",
      "execution_count": null,
      "metadata": {
        "id": "rKbFUfc0VUGG"
      },
      "outputs": [],
      "source": [
        "train_pool = Pool(data=X_cleared_train, label=y_cleared_train, cat_features=cat_features)\n",
        "val_pool = Pool(data=X_cleared_val, label=y_cleared_val, cat_features=cat_features)"
      ]
    },
    {
      "cell_type": "code",
      "execution_count": null,
      "metadata": {
        "colab": {
          "base_uri": "https://localhost:8080/"
        },
        "id": "Q6Qo4F2eRKWg",
        "outputId": "6f8f55f3-69ad-40dd-be93-ccc793cc5aa2"
      },
      "outputs": [
        {
          "name": "stdout",
          "output_type": "stream",
          "text": [
            "0:\tlearn: 0.6817183\ttest: 0.6832926\tbest: 0.6832926 (0)\ttotal: 1.45s\tremaining: 24m 10s\n",
            "100:\tlearn: 0.7954327\ttest: 0.8406379\tbest: 0.8406379 (100)\ttotal: 31.3s\tremaining: 4m 38s\n",
            "200:\tlearn: 0.8049404\ttest: 0.8518932\tbest: 0.8518932 (200)\ttotal: 1m 3s\tremaining: 4m 13s\n",
            "300:\tlearn: 0.8108054\ttest: 0.8580618\tbest: 0.8582512 (290)\ttotal: 1m 41s\tremaining: 3m 55s\n",
            "400:\tlearn: 0.8135654\ttest: 0.8605593\tbest: 0.8605857 (399)\ttotal: 2m 19s\tremaining: 3m 28s\n",
            "500:\tlearn: 0.8153283\ttest: 0.8633524\tbest: 0.8633524 (499)\ttotal: 3m\tremaining: 2m 59s\n",
            "600:\tlearn: 0.8169559\ttest: 0.8657786\tbest: 0.8659154 (588)\ttotal: 3m 41s\tremaining: 2m 26s\n",
            "700:\tlearn: 0.8185480\ttest: 0.8673019\tbest: 0.8674436 (682)\ttotal: 4m 22s\tremaining: 1m 52s\n",
            "800:\tlearn: 0.8194041\ttest: 0.8686613\tbest: 0.8687504 (797)\ttotal: 5m 4s\tremaining: 1m 15s\n",
            "900:\tlearn: 0.8206504\ttest: 0.8699204\tbest: 0.8699204 (900)\ttotal: 5m 46s\tremaining: 38.1s\n",
            "999:\tlearn: 0.8213923\ttest: 0.8708577\tbest: 0.8708890 (994)\ttotal: 6m 27s\tremaining: 0us\n",
            "\n",
            "bestTest = 0.8708889982\n",
            "bestIteration = 994\n",
            "\n",
            "Shrink model to first 995 iterations.\n",
            "              precision    recall  f1-score   support\n",
            "\n",
            "        Good       0.71      0.96      0.82      3527\n",
            "        Poor       0.75      0.95      0.84      5874\n",
            "    Standard       0.95      0.70      0.81     10599\n",
            "\n",
            "    accuracy                           0.82     20000\n",
            "   macro avg       0.80      0.87      0.82     20000\n",
            "weighted avg       0.85      0.82      0.82     20000\n",
            "\n"
          ]
        }
      ],
      "source": [
        "model = CatBoostClassifier(\n",
        "    iterations=1000,\n",
        "    learning_rate=0.01,\n",
        "    depth=4,\n",
        "    eval_metric='Accuracy',\n",
        "    random_seed=42,\n",
        "    l2_leaf_reg=3,\n",
        "    early_stopping_rounds=100,\n",
        "    auto_class_weights='Balanced',\n",
        "    verbose=100\n",
        ")\n",
        "\n",
        "model.fit(train_pool, eval_set=val_pool, verbose=100)\n",
        "\n",
        "\n",
        "y_pred_val = model.predict(X_cleared_val)\n",
        "print(classification_report(y_cleared_val, y_pred_val))"
      ]
    },
    {
      "cell_type": "markdown",
      "metadata": {
        "id": "JVNJ298Zknq-"
      },
      "source": [
        "Вывод:\n",
        " * Все удаленные признаки никак не повлияли на модель и её score сохранился\n",
        " * За счет удаления trash фич, мы добавили в скорости обучения"
      ]
    },
    {
      "cell_type": "code",
      "source": [
        "model = CatBoostClassifier(\n",
        "                            iterations=1000,\n",
        "                            eval_metric='Accuracy',\n",
        "                            random_seed=42,\n",
        "                            # task_type='GPU',\n",
        "                            early_stopping_rounds=50,\n",
        "                            auto_class_weights='Balanced',\n",
        "                            verbose=100)\n",
        "\n",
        "grid = {\n",
        "    'learning_rate': [0.1, 0,01],\n",
        "    'depth': [2, 4],\n",
        "    'l2_leaf_reg': [0.1, 1],\n",
        "}\n",
        "\n",
        "grid_search_result = model.grid_search(grid, train_pool, cv=3, partition_random_seed=42, stratified=True, verbose=False, plot=False )\n",
        "\n",
        "\n",
        "print(grid_search_result['params'])"
      ],
      "metadata": {
        "colab": {
          "base_uri": "https://localhost:8080/"
        },
        "id": "A1sNMBqIJFQo",
        "outputId": "1cd58c86-1c4f-40c7-f2dd-27949c42a83b"
      },
      "execution_count": null,
      "outputs": [
        {
          "output_type": "stream",
          "name": "stdout",
          "text": [
            "0:\tlearn: 0.6315953\ttest: 0.6322772\tbest: 0.6322772 (0)\ttotal: 144ms\tremaining: 2m 23s\n",
            "100:\tlearn: 0.7970577\ttest: 0.8521234\tbest: 0.8521234 (100)\ttotal: 17s\tremaining: 2m 31s\n",
            "200:\tlearn: 0.8026342\ttest: 0.8594403\tbest: 0.8596226 (196)\ttotal: 42s\tremaining: 2m 46s\n",
            "300:\tlearn: 0.8050756\ttest: 0.8612267\tbest: 0.8612782 (296)\ttotal: 58.5s\tremaining: 2m 15s\n",
            "400:\tlearn: 0.8062112\ttest: 0.8628243\tbest: 0.8628243 (400)\ttotal: 1m 10s\tremaining: 1m 45s\n",
            "500:\tlearn: 0.8070730\ttest: 0.8639745\tbest: 0.8639745 (494)\ttotal: 1m 22s\tremaining: 1m 21s\n",
            "600:\tlearn: 0.8075048\ttest: 0.8640270\tbest: 0.8642618 (587)\ttotal: 1m 33s\tremaining: 1m 1s\n",
            "700:\tlearn: 0.8082040\ttest: 0.8648943\tbest: 0.8650776 (695)\ttotal: 1m 45s\tremaining: 44.9s\n",
            "800:\tlearn: 0.8086820\ttest: 0.8653143\tbest: 0.8654308 (782)\ttotal: 1m 57s\tremaining: 29.3s\n",
            "Stopped by overfitting detector  (50 iterations wait)\n",
            "\n",
            "bestTest = 0.8661051041\n",
            "bestIteration = 848\n",
            "\n",
            "0:\tlearn: 0.6315953\ttest: 0.6322772\tbest: 0.6322772 (0)\ttotal: 154ms\tremaining: 2m 33s\n",
            "100:\tlearn: 0.7967163\ttest: 0.8510097\tbest: 0.8510097 (100)\ttotal: 12.6s\tremaining: 1m 52s\n",
            "200:\tlearn: 0.8030407\ttest: 0.8586809\tbest: 0.8586809 (199)\ttotal: 24.4s\tremaining: 1m 36s\n",
            "300:\tlearn: 0.8049427\ttest: 0.8614776\tbest: 0.8615167 (299)\ttotal: 35.4s\tremaining: 1m 22s\n",
            "400:\tlearn: 0.8064060\ttest: 0.8625362\tbest: 0.8626412 (362)\ttotal: 48.6s\tremaining: 1m 12s\n",
            "Stopped by overfitting detector  (50 iterations wait)\n",
            "\n",
            "bestTest = 0.8626411771\n",
            "bestIteration = 362\n",
            "\n",
            "0:\tlearn: 0.6831516\ttest: 0.6863892\tbest: 0.6863892 (0)\ttotal: 324ms\tremaining: 5m 23s\n",
            "100:\tlearn: 0.8079152\ttest: 0.8657778\tbest: 0.8657778 (99)\ttotal: 25.3s\tremaining: 3m 44s\n",
            "200:\tlearn: 0.8108953\ttest: 0.8678790\tbest: 0.8679048 (192)\ttotal: 53s\tremaining: 3m 30s\n",
            "300:\tlearn: 0.8125951\ttest: 0.8693665\tbest: 0.8693985 (287)\ttotal: 1m 23s\tremaining: 3m 13s\n"
          ]
        }
      ]
    },
    {
      "cell_type": "markdown",
      "metadata": {
        "id": "ETLzhBLmliBG"
      },
      "source": [
        "# **Заключение**"
      ]
    },
    {
      "cell_type": "code",
      "execution_count": null,
      "metadata": {
        "id": "-YLIVffBllFv"
      },
      "outputs": [],
      "source": []
    }
  ],
  "metadata": {
    "accelerator": "GPU",
    "colab": {
      "gpuType": "T4",
      "toc_visible": true,
      "provenance": [],
      "mount_file_id": "11Emil41HLtjEUhorNbYjRvFNNDUaKeBZ",
      "authorship_tag": "ABX9TyNryBqg3c/3KFOebb7kXQ27",
      "include_colab_link": true
    },
    "kernelspec": {
      "display_name": "Python 3",
      "name": "python3"
    },
    "language_info": {
      "name": "python"
    }
  },
  "nbformat": 4,
  "nbformat_minor": 0
}